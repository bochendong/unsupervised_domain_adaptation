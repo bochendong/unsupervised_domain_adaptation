{
  "cells": [
    {
      "cell_type": "code",
      "execution_count": 1,
      "source": [
        "import torch.nn as nn\n",
        "import torch.nn.functional as F\n",
        "import torch\n",
        "\n",
        "from torch.autograd import Variable\n",
        "import torch.backends.cudnn as cudnn\n",
        "\n",
        "from torchvision.utils import save_image\n",
        "\n",
        "import numpy as np\n",
        "\n",
        "import matplotlib.pyplot as plt\n",
        "import os\n",
        "from torch.utils.data import DataLoader,Dataset\n",
        "from torchvision import transforms, models, datasets"
      ],
      "outputs": [],
      "metadata": {
        "id": "tAz7koKv1MB5"
      }
    },
    {
      "cell_type": "code",
      "source": [
        "'''for epoch in range (200):\n",
        "  os.mkdir(\"./output/%03d\" % epoch)'''"
      ],
      "metadata": {
        "id": "2i0ul1TdfDUu",
        "outputId": "f9747186-881c-4c90-98a8-8a670c7489f9",
        "colab": {
          "base_uri": "https://localhost:8080/",
          "height": 35
        }
      },
      "execution_count": 2,
      "outputs": [
        {
          "output_type": "execute_result",
          "data": {
            "text/plain": [
              "'for epoch in range (200):\\n  os.mkdir(\"./output/%03d\" % epoch)'"
            ],
            "application/vnd.google.colaboratory.intrinsic+json": {
              "type": "string"
            }
          },
          "metadata": {},
          "execution_count": 2
        }
      ]
    },
    {
      "cell_type": "markdown",
      "source": [
        "# Data"
      ],
      "metadata": {
        "id": "VUJIfmDn1MCx"
      }
    },
    {
      "cell_type": "code",
      "source": [
        "\n",
        "device = torch.device('cuda:0' if torch.cuda.is_available() else 'cpu')\n",
        "\n",
        "\n",
        "def get_backgrounds():\n",
        "    backgrounds = []\n",
        "    for file in os.listdir(\"./images/train\"):\n",
        "        if file.endswith('.jpg'):\n",
        "            backgrounds.append(plt.imread(os.path.join(\"./images/train\",file)))\n",
        "    return np.array(backgrounds)\n",
        "backgrounds = get_backgrounds()\n",
        "\n",
        "\n",
        "def compose_image(image):\n",
        "    image = (image > 0).astype(np.float32)\n",
        "    image = image.reshape([28,28])*255.0\n",
        "    \n",
        "    image = np.stack([image,image,image],axis=2)\n",
        "    \n",
        "    background = np.random.choice(backgrounds)\n",
        "    w,h,_ = background.shape\n",
        "    dw, dh,_ = image.shape\n",
        "    x = np.random.randint(0,w-dw)\n",
        "    y = np.random.randint(0,h-dh)\n",
        "    \n",
        "    temp = background[x:x+dw, y:y+dh]\n",
        "    return np.abs(temp-image).astype(np.uint8)\n",
        "\n",
        "\n",
        "class MNISTM(Dataset):\n",
        "            \n",
        "    def __init__(self, train=True,transform=None):\n",
        "        if train:\n",
        "            self.data = datasets.MNIST(root='.data/mnist',train=True, download=True)\n",
        "        else:\n",
        "            self.data = datasets.MNIST(root='.data/mnist',train=False, download=True)\n",
        "        self.backgrounds = get_backgrounds()\n",
        "        self.transform = transform\n",
        "    def __getitem__(self,index):\n",
        "        image = np.array(self.data.__getitem__(index)[0])\n",
        "        target = self.data.__getitem__(index)[1]\n",
        "        image = compose_image(image)\n",
        "        #image = Image.fromarray(image.squeeze(), mode=\"RGB\")\n",
        "        if self.transform is not None:\n",
        "            image = self.transform(image)\n",
        "        return image, target\n",
        "        \n",
        "    def __len__(self):\n",
        "        return len(self.data)\n",
        "    \n",
        "    \n",
        "def get_mnistm_loaders(data_aug = False, batch_size=128,test_batch_size=1000):\n",
        "    if data_aug:\n",
        "        train_transform = transforms.Compose([\n",
        "            transforms.ToPILImage(),\n",
        "            transforms.Resize(64),\n",
        "            transforms.RandomCrop(64,padding=4),\n",
        "            transforms.ToTensor()\n",
        "        ])\n",
        "    else:\n",
        "        train_transform = transforms.Compose([\n",
        "            transforms.ToPILImage(),\n",
        "            transforms.Resize(64),\n",
        "            transforms.ToTensor()\n",
        "        ])\n",
        "    test_transform = transforms.Compose([\n",
        "        transforms.ToPILImage(),\n",
        "        transforms.Resize(64),\n",
        "        transforms.ToTensor()\n",
        "    ])\n",
        "    kwargs = {}\n",
        "    train_loader = DataLoader(\n",
        "        MNISTM(train=True,transform=train_transform),batch_size=batch_size, shuffle=True, drop_last=True)\n",
        "    train_eval_loader = DataLoader(\n",
        "        MNISTM(train=True, transform=test_transform),batch_size=test_batch_size, shuffle=False, drop_last=True)\n",
        "    test_loader = DataLoader(\n",
        "        MNISTM(train=False,transform=test_transform),batch_size=test_batch_size, shuffle=False, drop_last=True)\n",
        "    return train_loader, train_eval_loader, test_loader\n",
        "\n",
        "\n",
        "def get_mnist_loaders(data_aug = False, batch_size=128,test_batch_size=1000):\n",
        "    if data_aug:\n",
        "        train_transform = transforms.Compose(\n",
        "            [transforms.Resize(64),\n",
        "            transforms.RandomCrop(64,padding=4),\n",
        "            transforms.Grayscale(3),\n",
        "            transforms.ToTensor()\n",
        "        ])\n",
        "    else:\n",
        "        train_transform = transforms.Compose([\n",
        "            transforms.Resize(64),\n",
        "            transforms.Grayscale(3),\n",
        "            transforms.ToTensor()\n",
        "        ])\n",
        "    test_transform = transforms.Compose([\n",
        "        transforms.Resize(64),\n",
        "        transforms.Grayscale(3),\n",
        "        transforms.ToTensor()\n",
        "    ])\n",
        "    kwargs = {}\n",
        "\n",
        "    train_loader = DataLoader(\n",
        "        datasets.MNIST(root='.data/mnist',train=True, download=True,transform=train_transform),batch_size=batch_size, shuffle=True, drop_last=True)\n",
        "    train_eval_loader = DataLoader(\n",
        "        datasets.MNIST(root='.data/mnist',train=True, download=True, transform=test_transform),batch_size=test_batch_size, shuffle=False, drop_last=True)\n",
        "    test_loader = DataLoader(\n",
        "        datasets.MNIST(root='.data/mnist',train=False, download=True, transform=test_transform),batch_size=test_batch_size, shuffle=False, drop_last=True)\n",
        "    return train_loader, train_eval_loader, test_loader"
      ],
      "metadata": {
        "id": "EpbqReAb2ZWC",
        "outputId": "03e48cfe-43a9-4310-ee0d-c0333f2a72a3",
        "colab": {
          "base_uri": "https://localhost:8080/"
        }
      },
      "execution_count": 3,
      "outputs": [
        {
          "output_type": "stream",
          "name": "stderr",
          "text": [
            "/usr/local/lib/python3.7/dist-packages/ipykernel_launcher.py:10: VisibleDeprecationWarning: Creating an ndarray from ragged nested sequences (which is a list-or-tuple of lists-or-tuples-or ndarrays with different lengths or shapes) is deprecated. If you meant to do this, you must specify 'dtype=object' when creating the ndarray.\n",
            "  # Remove the CWD from sys.path while we load stuff.\n"
          ]
        }
      ]
    },
    {
      "cell_type": "code",
      "execution_count": 4,
      "source": [
        "loader_source, mnist_eval_loader, mnist_test_loader = get_mnist_loaders(batch_size=16)\n",
        "loader_target, mnistm_eval_loader,mnistm_test_loader = get_mnistm_loaders(batch_size=16)"
      ],
      "outputs": [
        {
          "output_type": "stream",
          "name": "stderr",
          "text": [
            "/usr/local/lib/python3.7/dist-packages/ipykernel_launcher.py:10: VisibleDeprecationWarning: Creating an ndarray from ragged nested sequences (which is a list-or-tuple of lists-or-tuples-or ndarrays with different lengths or shapes) is deprecated. If you meant to do this, you must specify 'dtype=object' when creating the ndarray.\n",
            "  # Remove the CWD from sys.path while we load stuff.\n"
          ]
        }
      ],
      "metadata": {
        "id": "Y6fVcaJx1MDC",
        "outputId": "477ee84d-e0f4-4770-f258-4d26c5855e03",
        "colab": {
          "base_uri": "https://localhost:8080/"
        }
      }
    },
    {
      "cell_type": "code",
      "source": [
        "data_target_iter = iter(loader_source)\n",
        "target_inputs, target_label = data_target_iter.next()"
      ],
      "metadata": {
        "id": "dJMxgmQV15-L"
      },
      "execution_count": 5,
      "outputs": []
    },
    {
      "cell_type": "code",
      "source": [
        "target_inputs.size()"
      ],
      "metadata": {
        "id": "3_hix1lb2GfW",
        "outputId": "b469db70-0e2f-4f70-ac36-2349e3b24ada",
        "colab": {
          "base_uri": "https://localhost:8080/"
        }
      },
      "execution_count": 6,
      "outputs": [
        {
          "output_type": "execute_result",
          "data": {
            "text/plain": [
              "torch.Size([16, 3, 64, 64])"
            ]
          },
          "metadata": {},
          "execution_count": 6
        }
      ]
    },
    {
      "cell_type": "markdown",
      "source": [
        "# Module"
      ],
      "metadata": {
        "id": "tj4IrxmY1MDH"
      }
    },
    {
      "cell_type": "markdown",
      "source": [
        "## Encoder"
      ],
      "metadata": {
        "id": "HT3A3kJ81MDH"
      }
    },
    {
      "cell_type": "code",
      "execution_count": 7,
      "source": [
        "class Encoder(nn.Module):\n",
        "    def __init__(self, input_nc=3):\n",
        "        super(Encoder, self).__init__()\n",
        "\n",
        "        # Initial convolution block\n",
        "        model = [   nn.ReflectionPad2d(3),\n",
        "                    nn.Conv2d(input_nc, 64, 7),\n",
        "                    nn.InstanceNorm2d(64),\n",
        "                    nn.ReLU(inplace=True) ]\n",
        "\n",
        "        model += [nn.Conv2d(64, 128, 3, stride=2, padding=1),\n",
        "                  nn.InstanceNorm2d(128),\n",
        "                  nn.ReLU(inplace=True)]\n",
        "                  \n",
        "        model += [nn.Conv2d(128, 256, 3, stride=2, padding=1),\n",
        "                  nn.InstanceNorm2d(256),\n",
        "                  nn.ReLU(inplace=True)]\n",
        "\n",
        "        model += [nn.Conv2d(256, 256, 3, stride=2, padding=1),\n",
        "                  nn.InstanceNorm2d(256),\n",
        "                  nn.ReLU(inplace=True)]\n",
        "\n",
        "        model += [nn.Conv2d(256, 512, 3, stride=2, padding=1),\n",
        "                  nn.InstanceNorm2d(512),\n",
        "                  nn.ReLU(inplace=True)]\n",
        "\n",
        "        model += [nn.Conv2d(512, 1024, 3, stride=2, padding=1),\n",
        "                  nn.InstanceNorm2d(1024),\n",
        "                  nn.ReLU(inplace=True)]\n",
        "\n",
        "\n",
        "\n",
        "        self.model = nn.Sequential(*model)\n",
        "\n",
        "    def forward(self, x):\n",
        "        return self.model(x)\n"
      ],
      "outputs": [],
      "metadata": {
        "id": "rMKoBFzV1MDI"
      }
    },
    {
      "cell_type": "markdown",
      "source": [
        "## Decoder"
      ],
      "metadata": {
        "id": "M5UjPnOT1MDK"
      }
    },
    {
      "cell_type": "code",
      "execution_count": 8,
      "source": [
        "class Decoder(nn.Module):\n",
        "    def __init__(self, input_nc=1024, output_nc=3):\n",
        "        super(Decoder, self).__init__()\n",
        "        model = [nn.ConvTranspose2d(input_nc, 512, 3, stride=2, padding=1, output_padding=1),\n",
        "                  nn.InstanceNorm2d(512),\n",
        "                  nn.ReLU(inplace=True)]\n",
        "\n",
        "        model += [nn.ConvTranspose2d(512, 256, 3, stride=2, padding=1, output_padding=1),\n",
        "                  nn.InstanceNorm2d(256),\n",
        "                  nn.ReLU(inplace=True)]\n",
        "        \n",
        "        model += [nn.ConvTranspose2d(256, 128, 3, stride=2, padding=1, output_padding=1),\n",
        "                  nn.InstanceNorm2d(128),\n",
        "                  nn.ReLU(inplace=True)]\n",
        "\n",
        "        model += [nn.ConvTranspose2d(128, 64, 3, stride=2, padding=1, output_padding=1),\n",
        "                  nn.InstanceNorm2d(64),\n",
        "                  nn.ReLU(inplace=True)]\n",
        "\n",
        "        model += [nn.ConvTranspose2d(64, 64, 3, stride=2, padding=1, output_padding=1),\n",
        "                  nn.InstanceNorm2d(64),\n",
        "                  nn.ReLU(inplace=True)]\n",
        "                  \n",
        "        \n",
        "        # Output layer\n",
        "        model += [  nn.ReflectionPad2d(3),\n",
        "                    nn.Conv2d(64, output_nc, 7),\n",
        "                    nn.InstanceNorm2d(3),\n",
        "                    nn.Tanh() ]\n",
        "\n",
        "        self.model = nn.Sequential(*model)\n",
        "\n",
        "    def forward(self, x):\n",
        "        return self.model(x)"
      ],
      "outputs": [],
      "metadata": {
        "id": "dfY5x_re1MDL"
      }
    },
    {
      "cell_type": "markdown",
      "source": [
        "## Identity Generator"
      ],
      "metadata": {
        "id": "Czg9UEQ21MDM"
      }
    },
    {
      "cell_type": "markdown",
      "source": [
        ""
      ],
      "metadata": {
        "id": "07lRbQX9ptpw"
      }
    },
    {
      "cell_type": "code",
      "execution_count": 9,
      "source": [
        "class Identity_Generator(nn.Module):\n",
        "    def __init__(self, encoder, decoder):\n",
        "        super(Identity_Generator, self).__init__()\n",
        "        self.encoder = encoder\n",
        "        self.decoder = decoder\n",
        "\n",
        "    def forward(self, A, B):\n",
        "        latentA = self.encoder(A)\n",
        "        latentB = self.encoder(B)\n",
        "\n",
        "        reconstructedA = self.decoder(latentA)\n",
        "        reconstructedB = self.decoder(latentB)\n",
        "        return reconstructedA, reconstructedB"
      ],
      "outputs": [],
      "metadata": {
        "id": "W1_Rd4371MDN"
      }
    },
    {
      "cell_type": "markdown",
      "source": [
        "## Perceptual"
      ],
      "metadata": {
        "id": "5kV1qBY41MDO"
      }
    },
    {
      "cell_type": "code",
      "execution_count": 10,
      "source": [
        "class Perceptual(nn.Module):\n",
        "    def __init__(self, encoder, decoder, generator):\n",
        "        super(Perceptual, self).__init__()\n",
        "\n",
        "        self.encoder = encoder\n",
        "        self.decoder = decoder\n",
        "        self.generator = generator\n",
        "\n",
        "    def forward(self, A, B):\n",
        "\n",
        "        reconstructedA, reconstructedB = self.generator(A, B)\n",
        "\n",
        "        latentA = self.encoder(A)\n",
        "        latentB = self.encoder(B)\n",
        "\n",
        "        latentA.detach()\n",
        "        latentB.detach()\n",
        "\n",
        "        style = latentA[:, 0:512, : , :]\n",
        "        content = latentB[:, 512:1024, :, :]\n",
        "        \n",
        "        mixed_latent = torch.cat([style, content], dim=1)\n",
        "        mixed_image = self.decoder(mixed_latent)\n",
        "\n",
        "        return mixed_image, reconstructedA, reconstructedB"
      ],
      "outputs": [],
      "metadata": {
        "id": "b3jjreGi1MDO"
      }
    },
    {
      "cell_type": "markdown",
      "source": [
        "## Discriminator"
      ],
      "metadata": {
        "id": "HLubC4sJ1MDd"
      }
    },
    {
      "cell_type": "code",
      "execution_count": 11,
      "source": [
        "class Discriminator(nn.Module):\n",
        "    def __init__(self, input_nc = 3):\n",
        "        super(Discriminator, self).__init__()\n",
        "\n",
        "        model = [   nn.Conv2d(input_nc, 64, 4, stride=2, padding=1),\n",
        "                    nn.LeakyReLU(0.2, inplace=True) ]\n",
        "\n",
        "        model += [  nn.Conv2d(64, 128, 4, padding=1),\n",
        "                    nn.InstanceNorm2d(128), \n",
        "                    nn.LeakyReLU(0.2, inplace=True) ]\n",
        "\n",
        "        model += [  nn.Conv2d(128, 256, 4, stride=2, padding=1),\n",
        "                    nn.InstanceNorm2d(256), \n",
        "                    nn.LeakyReLU(0.2, inplace=True) ]\n",
        "\n",
        "        model += [  nn.Conv2d(256, 512, 4, stride=2, padding=1),\n",
        "                    nn.InstanceNorm2d(256), \n",
        "                    nn.LeakyReLU(0.2, inplace=True) ]\n",
        "\n",
        "        model += [  nn.Conv2d(512, 1, 4, padding=1)]\n",
        "\n",
        "\n",
        "        self.model = nn.Sequential(*model)\n",
        "\n",
        "    def forward(self, x):\n",
        "        x =  self.model(x)\n",
        "        return F.avg_pool2d(x, x.size()[2:]).view(x.size()[0], -1)"
      ],
      "outputs": [],
      "metadata": {
        "id": "67DdNmWP1MDd"
      }
    },
    {
      "cell_type": "markdown",
      "source": [
        "## Model test"
      ],
      "metadata": {
        "id": "wxtkw7_W1MDe"
      }
    },
    {
      "cell_type": "code",
      "execution_count": 12,
      "source": [
        "test_tensor_source = torch.rand(20, 3, 64, 64)\n",
        "test_tensor_target = torch.rand(20, 3, 64, 64)\n",
        "\n",
        "encoder = Encoder()\n",
        "decoder = Decoder()\n",
        "generator = Identity_Generator(encoder, decoder)\n",
        "perceptual = Perceptual(encoder, decoder, generator)\n",
        "discriminator = Discriminator()"
      ],
      "outputs": [],
      "metadata": {
        "id": "86m4eeH01MDe"
      }
    },
    {
      "cell_type": "code",
      "execution_count": 13,
      "source": [
        "output = encoder(test_tensor_source)\n",
        "print(output.size())"
      ],
      "outputs": [
        {
          "output_type": "stream",
          "name": "stdout",
          "text": [
            "torch.Size([20, 1024, 2, 2])\n"
          ]
        }
      ],
      "metadata": {
        "id": "N0inW_Fc1MDf",
        "outputId": "ffb570ae-e15e-4899-c25b-7b27ad3f50f6",
        "colab": {
          "base_uri": "https://localhost:8080/"
        }
      }
    },
    {
      "cell_type": "code",
      "execution_count": 14,
      "source": [
        "output = decoder(output)\n",
        "print(output.size())"
      ],
      "outputs": [
        {
          "output_type": "stream",
          "name": "stdout",
          "text": [
            "torch.Size([20, 3, 64, 64])\n"
          ]
        }
      ],
      "metadata": {
        "id": "whI1GNVv1MDg",
        "outputId": "14557917-b963-44cc-c26a-3e25a37ace70",
        "colab": {
          "base_uri": "https://localhost:8080/"
        }
      }
    },
    {
      "cell_type": "code",
      "execution_count": 15,
      "source": [
        "output_a, output_b = generator(test_tensor_source, test_tensor_target)\n",
        "print(output_a.size())\n",
        "print(output_b.size())"
      ],
      "outputs": [
        {
          "output_type": "stream",
          "name": "stdout",
          "text": [
            "torch.Size([20, 3, 64, 64])\n",
            "torch.Size([20, 3, 64, 64])\n"
          ]
        }
      ],
      "metadata": {
        "id": "Y8lqX0zD1MDg",
        "outputId": "ac681997-7b20-4f58-faa2-8213adaaa0ae",
        "colab": {
          "base_uri": "https://localhost:8080/"
        }
      }
    },
    {
      "cell_type": "code",
      "execution_count": 16,
      "source": [
        "mix, output_a, output_b = perceptual(test_tensor_source, test_tensor_target)\n",
        "\n",
        "print(mix.size())\n",
        "print(output_a.size())\n",
        "print(output_b.size())"
      ],
      "outputs": [
        {
          "output_type": "stream",
          "name": "stdout",
          "text": [
            "torch.Size([20, 3, 64, 64])\n",
            "torch.Size([20, 3, 64, 64])\n",
            "torch.Size([20, 3, 64, 64])\n"
          ]
        }
      ],
      "metadata": {
        "id": "rZh-K2321MDh",
        "outputId": "912b37e5-ab24-4162-eeaa-d31e28522a26",
        "colab": {
          "base_uri": "https://localhost:8080/"
        }
      }
    },
    {
      "cell_type": "code",
      "execution_count": 17,
      "source": [
        "output = discriminator(test_tensor_source)\n",
        "print(output.size())"
      ],
      "outputs": [
        {
          "output_type": "stream",
          "name": "stdout",
          "text": [
            "torch.Size([20, 1])\n"
          ]
        }
      ],
      "metadata": {
        "id": "v1-Tuees1MDi",
        "outputId": "177105be-9baf-45d9-fa06-5e7ae270e67a",
        "colab": {
          "base_uri": "https://localhost:8080/"
        }
      }
    },
    {
      "cell_type": "code",
      "source": [
        "print(mix[0][0][0] - output_a[0][0][0])"
      ],
      "metadata": {
        "id": "eRlWrUEFTpLX",
        "outputId": "3aca579d-f7ab-4f91-d53e-1f20498126b0",
        "colab": {
          "base_uri": "https://localhost:8080/"
        }
      },
      "execution_count": 18,
      "outputs": [
        {
          "output_type": "stream",
          "name": "stdout",
          "text": [
            "tensor([-0.3989,  0.1224,  0.1282, -1.1153,  0.1155, -1.2044,  0.2227, -0.4298,\n",
            "         0.1723, -0.1405,  0.1651, -0.0550,  0.5790, -0.0945,  0.0311, -0.1396,\n",
            "         0.2235,  1.2471,  0.1077, -0.4689, -1.5198,  0.8819, -0.3812,  0.5117,\n",
            "        -0.6177, -0.8013,  0.2535, -0.3359, -0.0084,  0.4723, -0.9462,  0.0055,\n",
            "         0.3436,  0.1828,  0.3792, -0.5670,  0.1498,  0.1871, -0.1718,  0.6821,\n",
            "        -0.5080,  0.0293, -0.1309, -0.5036, -0.2128, -0.1984,  0.4339,  0.4402,\n",
            "        -0.1365, -0.1834, -1.0720,  0.3227,  0.3862,  0.0127, -0.2784, -0.0785,\n",
            "        -0.5141,  0.4760, -0.2940, -0.1618, -0.0534,  0.0352, -0.0706, -0.2237],\n",
            "       grad_fn=<SubBackward0>)\n"
          ]
        }
      ]
    },
    {
      "cell_type": "markdown",
      "source": [
        "# Loss"
      ],
      "metadata": {
        "id": "sPaeTfIX1MDk"
      }
    },
    {
      "cell_type": "code",
      "execution_count": 19,
      "source": [
        "def tv_loss(img, tv_weight=5e-2):\n",
        "    w_variance = torch.sum(torch.pow(img[:,:,:,:-1] - img[:,:,:,1:], 2))\n",
        "    h_variance = torch.sum(torch.pow(img[:,:,:-1,:] - img[:,:,1:,:], 2))\n",
        "    loss = tv_weight * (h_variance + w_variance)\n",
        "    return loss\n",
        "\n",
        "def total_variation_loss(img, weight=5e-2):\n",
        "    bs_img, c_img, h_img, w_img = img.size()\n",
        "    tv_h = torch.pow(img[:, :, 1:, :] - img[:, :, :-1, :], 2).sum()\n",
        "    tv_w = torch.pow(img[:, :, :, 1:] - img[:, :, :, :-1], 2).sum()\n",
        "    return weight * (tv_h + tv_w) / (bs_img * c_img * h_img * w_img)\n",
        "\n",
        "def compute_content_loss(target_feature, content_feature):\n",
        "    return torch.mean((target_feature - content_feature)**2)\n",
        "\n",
        "def batch_gram_matrix(img):\n",
        "    \"\"\"\n",
        "    Compute the gram matrix by converting to 2D tensor and doing dot product\n",
        "    img: (batch, channel/depth, height, width)\n",
        "    \"\"\"\n",
        "    b, d, h, w = img.size()\n",
        "    img = img.view(b*d, h*w) # fix the dimension. It doesn't make sense to put b=1 when it's not always the case\n",
        "    gram = torch.mm(img, img.t())\n",
        "    return gram\n",
        "\n",
        "style_weights = {'conv1_1': 1.,\n",
        "                 'conv2_1': 0.75,\n",
        "                 'conv3_1': 0.2,\n",
        "                 'conv4_1': 0.2,\n",
        "                 'conv5_1': 0.2}\n",
        "\n",
        "def compute_style_loss(style_features, target_features):\n",
        "    # the style loss\n",
        "    # initialize the style loss to 0\n",
        "    style_loss = 0\n",
        "    style_grams = {layer: batch_gram_matrix(style_features[layer]) for layer in style_features}\n",
        "    # then add to it for each layer's gram matrix loss\n",
        "    for layer in style_weights:\n",
        "        # get the \"target\" style representation for the layer\n",
        "        target_feature = target_features[layer]\n",
        "        target_gram = batch_gram_matrix(target_feature)\n",
        "        _, d, h, w = target_feature.shape\n",
        "        # get the \"style\" style representation\n",
        "        style_gram = style_grams[layer]\n",
        "        # the style loss for one layer, weighted appropriately\n",
        "        layer_style_loss = style_weights[layer] * torch.mean((target_gram - style_gram) ** 2)\n",
        "        # add to the style loss\n",
        "        style_loss += layer_style_loss / (d * h * w)\n",
        "\n",
        "    return style_loss"
      ],
      "outputs": [],
      "metadata": {
        "id": "6EkNLO_T1MDk"
      }
    },
    {
      "cell_type": "markdown",
      "source": [
        "# Training"
      ],
      "metadata": {
        "id": "DEujnWnX1MDl"
      }
    },
    {
      "cell_type": "markdown",
      "source": [
        "## Training Method"
      ],
      "metadata": {
        "id": "O4U1o05Y1MDm"
      }
    },
    {
      "cell_type": "code",
      "execution_count": 20,
      "source": [
        "def get_features(image, model, layers=None):\n",
        "    if layers is None:\n",
        "        layers = {'0': 'conv1_1',\n",
        "                  '5': 'conv2_1',\n",
        "                  '10': 'conv3_1',\n",
        "                  '19': 'conv4_1',\n",
        "                  '21': 'conv4_2',  ## content representation\n",
        "                  '28': 'conv5_1'}\n",
        "\n",
        "    features_arr = []\n",
        "    features = {}\n",
        "    x = image\n",
        "    # model._modules is a dictionary holding each module in the model\n",
        "    for name, layer in model._modules.items():\n",
        "        x = layer(x)\n",
        "        if name in layers:\n",
        "            features[layers[name]] = x\n",
        "\n",
        "    return features"
      ],
      "outputs": [],
      "metadata": {
        "id": "_L7ExZCq1MDz"
      }
    },
    {
      "cell_type": "code",
      "execution_count": 21,
      "source": [
        "def train_with_autoencoder(source, target, preceptual, discriminator, criterion_adv, criterion_discriminator, criterion_construct, opt_pre, opt_dis, use_cuda, vgg, epoch):\n",
        "    data_target_iter = iter(target)\n",
        "    total = 0\n",
        "\n",
        "    for batch_idx, (source_inputs, source_label) in enumerate(source):\n",
        "        batch_size = source_inputs.size(0)\n",
        "        total += batch_size\n",
        "        target_inputs, target_label = data_target_iter.next()\n",
        "\n",
        "        real_label = torch.ones(batch_size).float()\n",
        "        fake_label = torch.zeros(batch_size).float()\n",
        "\n",
        "        if use_cuda: \n",
        "            source_inputs, target_inputs = source_inputs.cuda(), target_inputs.cuda()\n",
        "            real_label, fake_label = real_label.cuda(), fake_label.cuda()\n",
        "\n",
        "        # preceptual\n",
        "        mixed_image, reconstruct_source, reconstruct_target = preceptual(source_inputs, target_inputs)\n",
        "\n",
        "        loss_ss = criterion_construct(source_inputs, reconstruct_source) * 30\n",
        "        loss_tt = criterion_construct(target_inputs, reconstruct_target) * 30\n",
        "\n",
        "        TV_loss = total_variation_loss(mixed_image)\n",
        "        pred_fake = discriminator(mixed_image)\n",
        "        loss_adv = criterion_adv(pred_fake, real_label)\n",
        "\n",
        "        cuda_mixed_image = mixed_image.clone().requires_grad_(True).cuda()\n",
        "        cuda_real_A = source_inputs.clone().requires_grad_(True).cuda()\n",
        "        cuda_real_B = target_inputs.clone().requires_grad_(True).cuda()\n",
        "        style_features = get_features(cuda_real_A, vgg)\n",
        "        content_features = get_features(cuda_real_B, vgg)\n",
        "        target_features = get_features(cuda_mixed_image, vgg)\n",
        "\n",
        "        content_loss = compute_content_loss(target_features['conv4_2'], content_features['conv4_2']) * 0.1\n",
        "        style_loss = compute_style_loss(style_features, target_features) * 0.05\n",
        "\n",
        "        preceptual_loss = loss_ss + loss_tt + TV_loss + loss_adv + content_loss + style_loss\n",
        "\n",
        "        opt_pre.zero_grad()\n",
        "        preceptual_loss.backward()\n",
        "        opt_pre.step()\n",
        "\n",
        "        # Update discriminator\n",
        "        pred_real = discriminator(source_inputs)\n",
        "        pred_fake = discriminator(mixed_image.detach())\n",
        "\n",
        "        loss_dis_real = criterion_discriminator(pred_real, real_label)\n",
        "        loss_dis_fake = criterion_discriminator(pred_real, fake_label)\n",
        "\n",
        "        discriminator_loss = loss_dis_real + loss_dis_fake\n",
        "\n",
        "        opt_dis.zero_grad()\n",
        "        discriminator_loss.backward()\n",
        "        opt_dis.step()\n",
        "    \n",
        "        if  batch_idx % 200 == 0:\n",
        "            real_A = source_inputs.data\n",
        "            real_B = target_inputs.data\n",
        "            mixed_image = mixed_image.data\n",
        "            reconstructionA = reconstruct_source.data\n",
        "            reconstructionB = reconstruct_target.data\n",
        "\n",
        "            save_image(real_A, './output/%03d/00_%d_A.png' % ( epoch, batch_idx))\n",
        "            save_image(real_B, 'output/%03d/00_%d_B.png' % ( epoch, batch_idx))\n",
        "            save_image(reconstructionA, 'output/%03d/00_%d_reconA.png' % ( epoch, batch_idx))\n",
        "            save_image(reconstructionB, 'output/%03d/00_%d_reconB.png' % ( epoch, batch_idx))\n",
        "            save_image(mixed_image, 'output/%03d/00_%d_Mixed.png' % ( epoch, batch_idx))\n",
        "        if batch_idx >= 400:\n",
        "          break\n",
        "    print (\"e: %d, pre_loss: %.2f, D_real: %.2f, D_fake: %.2f\" % (epoch, preceptual_loss, loss_dis_real, loss_dis_fake))\n"
      ],
      "outputs": [],
      "metadata": {
        "id": "S4Lt21LG1MD0"
      }
    },
    {
      "cell_type": "markdown",
      "source": [
        "## Model hypermeter"
      ],
      "metadata": {
        "id": "EVvM_If_1MD1"
      }
    },
    {
      "cell_type": "code",
      "source": [
        "class LambdaLR():\n",
        "    def __init__(self, n_epochs, offset, decay_start_epoch):\n",
        "        assert ((n_epochs - decay_start_epoch) > 0), \"Decay must start before the training session ends!\"\n",
        "        self.n_epochs = n_epochs\n",
        "        self.offset = offset\n",
        "        self.decay_start_epoch = decay_start_epoch\n",
        "\n",
        "    def step(self, epoch):\n",
        "        return 1.0 - max(0, epoch + self.offset - self.decay_start_epoch)/(self.n_epochs - self.decay_start_epoch)"
      ],
      "metadata": {
        "id": "IMp_DtKGNx9t"
      },
      "execution_count": 22,
      "outputs": []
    },
    {
      "cell_type": "code",
      "execution_count": 23,
      "source": [
        "encoder = Encoder(input_nc = 3)\n",
        "decoder = Decoder()\n",
        "generator = Identity_Generator(encoder, decoder)\n",
        "perceptual = Perceptual(encoder, decoder, generator)\n",
        "discriminator = Discriminator()"
      ],
      "outputs": [],
      "metadata": {
        "id": "TBdlE72j1MD4"
      }
    },
    {
      "cell_type": "code",
      "execution_count": 24,
      "source": [
        "learning_rate = 0.0002\n",
        "beta = (0.5, 0.999)\n",
        "\n",
        "criterion_adv = torch.nn.MSELoss()\n",
        "criterion_discriminator = torch.nn.MSELoss()\n",
        "criterion_construct = torch.nn.L1Loss()\n",
        "\n",
        "optimizer_pre = torch.optim.Adam(perceptual.parameters(), lr=learning_rate, betas=beta)\n",
        "optimizer_dis = torch.optim.Adam(discriminator.parameters(), lr=learning_rate, betas=beta)\n",
        "\n",
        "lr_scheduler_G = torch.optim.lr_scheduler.LambdaLR(optimizer_pre, lr_lambda=LambdaLR(200, 0, 100).step)\n",
        "lr_scheduler_D = torch.optim.lr_scheduler.LambdaLR(optimizer_dis, lr_lambda=LambdaLR(200, 0, 100).step)\n"
      ],
      "outputs": [],
      "metadata": {
        "id": "Y8zIpzSL1MD5"
      }
    },
    {
      "cell_type": "code",
      "execution_count": 25,
      "source": [
        "vgg = models.vgg19(pretrained=True).features\n",
        "for param in vgg.parameters():\n",
        "    param.requires_grad_(False)\n",
        "device = torch.device(\"cuda\" if torch.cuda.is_available() else \"cpu\")\n",
        "vgg.to(device)"
      ],
      "outputs": [
        {
          "output_type": "execute_result",
          "data": {
            "text/plain": [
              "Sequential(\n",
              "  (0): Conv2d(3, 64, kernel_size=(3, 3), stride=(1, 1), padding=(1, 1))\n",
              "  (1): ReLU(inplace=True)\n",
              "  (2): Conv2d(64, 64, kernel_size=(3, 3), stride=(1, 1), padding=(1, 1))\n",
              "  (3): ReLU(inplace=True)\n",
              "  (4): MaxPool2d(kernel_size=2, stride=2, padding=0, dilation=1, ceil_mode=False)\n",
              "  (5): Conv2d(64, 128, kernel_size=(3, 3), stride=(1, 1), padding=(1, 1))\n",
              "  (6): ReLU(inplace=True)\n",
              "  (7): Conv2d(128, 128, kernel_size=(3, 3), stride=(1, 1), padding=(1, 1))\n",
              "  (8): ReLU(inplace=True)\n",
              "  (9): MaxPool2d(kernel_size=2, stride=2, padding=0, dilation=1, ceil_mode=False)\n",
              "  (10): Conv2d(128, 256, kernel_size=(3, 3), stride=(1, 1), padding=(1, 1))\n",
              "  (11): ReLU(inplace=True)\n",
              "  (12): Conv2d(256, 256, kernel_size=(3, 3), stride=(1, 1), padding=(1, 1))\n",
              "  (13): ReLU(inplace=True)\n",
              "  (14): Conv2d(256, 256, kernel_size=(3, 3), stride=(1, 1), padding=(1, 1))\n",
              "  (15): ReLU(inplace=True)\n",
              "  (16): Conv2d(256, 256, kernel_size=(3, 3), stride=(1, 1), padding=(1, 1))\n",
              "  (17): ReLU(inplace=True)\n",
              "  (18): MaxPool2d(kernel_size=2, stride=2, padding=0, dilation=1, ceil_mode=False)\n",
              "  (19): Conv2d(256, 512, kernel_size=(3, 3), stride=(1, 1), padding=(1, 1))\n",
              "  (20): ReLU(inplace=True)\n",
              "  (21): Conv2d(512, 512, kernel_size=(3, 3), stride=(1, 1), padding=(1, 1))\n",
              "  (22): ReLU(inplace=True)\n",
              "  (23): Conv2d(512, 512, kernel_size=(3, 3), stride=(1, 1), padding=(1, 1))\n",
              "  (24): ReLU(inplace=True)\n",
              "  (25): Conv2d(512, 512, kernel_size=(3, 3), stride=(1, 1), padding=(1, 1))\n",
              "  (26): ReLU(inplace=True)\n",
              "  (27): MaxPool2d(kernel_size=2, stride=2, padding=0, dilation=1, ceil_mode=False)\n",
              "  (28): Conv2d(512, 512, kernel_size=(3, 3), stride=(1, 1), padding=(1, 1))\n",
              "  (29): ReLU(inplace=True)\n",
              "  (30): Conv2d(512, 512, kernel_size=(3, 3), stride=(1, 1), padding=(1, 1))\n",
              "  (31): ReLU(inplace=True)\n",
              "  (32): Conv2d(512, 512, kernel_size=(3, 3), stride=(1, 1), padding=(1, 1))\n",
              "  (33): ReLU(inplace=True)\n",
              "  (34): Conv2d(512, 512, kernel_size=(3, 3), stride=(1, 1), padding=(1, 1))\n",
              "  (35): ReLU(inplace=True)\n",
              "  (36): MaxPool2d(kernel_size=2, stride=2, padding=0, dilation=1, ceil_mode=False)\n",
              ")"
            ]
          },
          "metadata": {},
          "execution_count": 25
        }
      ],
      "metadata": {
        "id": "OCYbEweS1MD5",
        "outputId": "95ce7cd1-ec0c-4d95-bf49-b088bb2ca1c2",
        "colab": {
          "base_uri": "https://localhost:8080/"
        }
      }
    },
    {
      "cell_type": "code",
      "execution_count": 26,
      "source": [
        "if (torch.cuda.is_available()):\n",
        "    torch.cuda.manual_seed_all(42)\n",
        "    cudnn.benchmark = True\n",
        "\n",
        "    criterion_construct = criterion_construct.cuda()\n",
        "    criterion_discriminator = criterion_discriminator.cuda()\n",
        "    criterion_construct = criterion_construct.cuda()\n",
        "    \n",
        "    encoder.cuda()\n",
        "    decoder.cuda()\n",
        "    generator.cuda()\n",
        "    perceptual.cuda()\n",
        "    discriminator.cuda()"
      ],
      "outputs": [],
      "metadata": {
        "id": "1_h8u5-V1MD5"
      }
    },
    {
      "cell_type": "markdown",
      "source": [
        "## Init the network"
      ],
      "metadata": {
        "id": "Oe87ze5D1MD6"
      }
    },
    {
      "cell_type": "code",
      "execution_count": 27,
      "source": [
        "def weights_init_normal(m):\n",
        "    classname = m.__class__.__name__\n",
        "    if classname.find('Conv') != -1:\n",
        "        torch.nn.init.normal_(m.weight.data, 0.0, 0.02)\n",
        "    elif classname.find('BatchNorm2d') != -1:\n",
        "        torch.nn.init.normal_(m.weight.data, 1.0, 0.02)\n",
        "        torch.nn.init.constant(m.bias.data, 0.0)"
      ],
      "outputs": [],
      "metadata": {
        "id": "vVGb29b_1MD6"
      }
    },
    {
      "cell_type": "code",
      "execution_count": 28,
      "source": [
        "encoder.apply(weights_init_normal)\n",
        "decoder.apply(weights_init_normal)\n",
        "generator.apply(weights_init_normal)\n",
        "perceptual.apply(weights_init_normal)\n",
        "discriminator.apply(weights_init_normal)"
      ],
      "outputs": [
        {
          "output_type": "execute_result",
          "data": {
            "text/plain": [
              "Discriminator(\n",
              "  (model): Sequential(\n",
              "    (0): Conv2d(3, 64, kernel_size=(4, 4), stride=(2, 2), padding=(1, 1))\n",
              "    (1): LeakyReLU(negative_slope=0.2, inplace=True)\n",
              "    (2): Conv2d(64, 128, kernel_size=(4, 4), stride=(1, 1), padding=(1, 1))\n",
              "    (3): InstanceNorm2d(128, eps=1e-05, momentum=0.1, affine=False, track_running_stats=False)\n",
              "    (4): LeakyReLU(negative_slope=0.2, inplace=True)\n",
              "    (5): Conv2d(128, 256, kernel_size=(4, 4), stride=(2, 2), padding=(1, 1))\n",
              "    (6): InstanceNorm2d(256, eps=1e-05, momentum=0.1, affine=False, track_running_stats=False)\n",
              "    (7): LeakyReLU(negative_slope=0.2, inplace=True)\n",
              "    (8): Conv2d(256, 512, kernel_size=(4, 4), stride=(2, 2), padding=(1, 1))\n",
              "    (9): InstanceNorm2d(256, eps=1e-05, momentum=0.1, affine=False, track_running_stats=False)\n",
              "    (10): LeakyReLU(negative_slope=0.2, inplace=True)\n",
              "    (11): Conv2d(512, 1, kernel_size=(4, 4), stride=(1, 1), padding=(1, 1))\n",
              "  )\n",
              ")"
            ]
          },
          "metadata": {},
          "execution_count": 28
        }
      ],
      "metadata": {
        "id": "X-cEljb71MD6",
        "outputId": "25233130-365c-464a-85a5-74bcbde426d5",
        "colab": {
          "base_uri": "https://localhost:8080/"
        }
      }
    },
    {
      "cell_type": "markdown",
      "source": [
        "## Training"
      ],
      "metadata": {
        "id": "8j-yi9aD1MD7"
      }
    },
    {
      "cell_type": "code",
      "execution_count": null,
      "source": [
        "for epoch in range(0, 200):\n",
        "    train_with_autoencoder(source = loader_target, \n",
        "        target = loader_source, \n",
        "        preceptual = perceptual, \n",
        "        discriminator = discriminator, \n",
        "        criterion_adv = criterion_adv, \n",
        "        criterion_discriminator = criterion_discriminator, \n",
        "        criterion_construct = criterion_construct, \n",
        "        opt_pre = optimizer_pre, \n",
        "        opt_dis = optimizer_dis, \n",
        "        use_cuda = True, \n",
        "        vgg = vgg,\n",
        "        epoch = epoch)\n",
        "    \n",
        "    lr_scheduler_G.step()\n",
        "    lr_scheduler_D.step()"
      ],
      "outputs": [
        {
          "output_type": "stream",
          "name": "stderr",
          "text": [
            "/usr/local/lib/python3.7/dist-packages/torch/nn/modules/loss.py:529: UserWarning: Using a target size (torch.Size([16])) that is different to the input size (torch.Size([16, 1])). This will likely lead to incorrect results due to broadcasting. Please ensure they have the same size.\n",
            "  return F.mse_loss(input, target, reduction=self.reduction)\n"
          ]
        },
        {
          "output_type": "stream",
          "name": "stdout",
          "text": [
            "e: 0, pre_loss: 10.94, D_real: 0.22, D_fake: 0.29\n",
            "e: 1, pre_loss: 10.07, D_real: 0.23, D_fake: 0.27\n",
            "e: 2, pre_loss: 11.52, D_real: 0.26, D_fake: 0.25\n",
            "e: 3, pre_loss: 11.13, D_real: 0.27, D_fake: 0.23\n",
            "e: 4, pre_loss: 12.78, D_real: 0.23, D_fake: 0.27\n",
            "e: 5, pre_loss: 10.94, D_real: 0.33, D_fake: 0.19\n",
            "e: 6, pre_loss: 11.39, D_real: 0.26, D_fake: 0.24\n",
            "e: 7, pre_loss: 11.49, D_real: 0.17, D_fake: 0.35\n",
            "e: 8, pre_loss: 11.80, D_real: 0.21, D_fake: 0.30\n",
            "e: 9, pre_loss: 9.46, D_real: 0.32, D_fake: 0.19\n",
            "e: 10, pre_loss: 10.33, D_real: 0.08, D_fake: 0.52\n",
            "e: 11, pre_loss: 10.58, D_real: 0.29, D_fake: 0.22\n",
            "e: 12, pre_loss: 9.87, D_real: 0.21, D_fake: 0.29\n",
            "e: 13, pre_loss: 10.53, D_real: 0.28, D_fake: 0.22\n",
            "e: 14, pre_loss: 10.88, D_real: 0.26, D_fake: 0.24\n",
            "e: 15, pre_loss: 10.64, D_real: 0.26, D_fake: 0.24\n",
            "e: 16, pre_loss: 9.85, D_real: 0.25, D_fake: 0.25\n",
            "e: 17, pre_loss: 9.40, D_real: 0.30, D_fake: 0.21\n",
            "e: 18, pre_loss: 11.53, D_real: 0.26, D_fake: 0.24\n",
            "e: 19, pre_loss: 10.45, D_real: 0.31, D_fake: 0.20\n",
            "e: 20, pre_loss: 10.13, D_real: 0.25, D_fake: 0.25\n",
            "e: 21, pre_loss: 10.29, D_real: 0.19, D_fake: 0.31\n",
            "e: 22, pre_loss: 10.47, D_real: 0.26, D_fake: 0.24\n",
            "e: 23, pre_loss: 10.20, D_real: 0.25, D_fake: 0.25\n",
            "e: 24, pre_loss: 11.32, D_real: 0.21, D_fake: 0.30\n",
            "e: 25, pre_loss: 10.57, D_real: 0.24, D_fake: 0.26\n",
            "e: 26, pre_loss: 10.94, D_real: 0.26, D_fake: 0.24\n",
            "e: 27, pre_loss: 10.53, D_real: 0.29, D_fake: 0.21\n",
            "e: 28, pre_loss: 10.66, D_real: 0.21, D_fake: 0.29\n",
            "e: 29, pre_loss: 11.51, D_real: 0.23, D_fake: 0.27\n",
            "e: 30, pre_loss: 11.65, D_real: 0.30, D_fake: 0.21\n",
            "e: 31, pre_loss: 10.30, D_real: 0.24, D_fake: 0.27\n"
          ]
        }
      ],
      "metadata": {
        "id": "y2JzSa6T1MD7",
        "outputId": "8913b638-e3e2-4663-837c-a3c6b328060c",
        "colab": {
          "base_uri": "https://localhost:8080/"
        }
      }
    },
    {
      "cell_type": "markdown",
      "source": [
        "# Reconstructed Image view"
      ],
      "metadata": {
        "id": "BW4yYXlL1MD7"
      }
    },
    {
      "cell_type": "code",
      "execution_count": null,
      "source": [
        "def show_img(source, target, source_label, target_label):\n",
        "    num_row = 4\n",
        "    num_col = 5\n",
        "    num = 10\n",
        "    images = source[:num]\n",
        "    labels = source_label[:num]\n",
        "\n",
        "    fig, axes = plt.subplots(num_row, num_col, figsize=(1.5*num_col,2*num_row))\n",
        "    for i in range(num):\n",
        "        ax = axes[i//num_col, i%num_col]\n",
        "        image =  images[i].transpose(0,2).transpose(0,1)\n",
        "\n",
        "        ax.imshow(image)\n",
        "        ax.set_title('Label: {}'.format(labels[i]))\n",
        "\n",
        "\n",
        "    images = target[:num]\n",
        "    labels = target_label[:num]\n",
        "    for i in range(10,20):\n",
        "        ax = axes[i//num_col, i%num_col]\n",
        "        image = images[i - 10].transpose(0,2).transpose(0,1)\n",
        "        \n",
        "        ax.imshow(image)\n",
        "        ax.set_title('Label: {}'.format(labels[i - 10]))\n",
        "    plt.tight_layout()\n",
        "    plt.show()"
      ],
      "outputs": [],
      "metadata": {
        "id": "tmefIdvM1MD8"
      }
    },
    {
      "cell_type": "code",
      "execution_count": null,
      "source": [
        "def generate_image(source, target, preceptual, cuda):\n",
        "    data_target_iter = iter(target)\n",
        "    \n",
        "    source_reconstrueted = []\n",
        "    source_label_lst = []\n",
        "    target_reconstructed = []\n",
        "    target_label_lst = []\n",
        "    mixed_image_lst = []\n",
        "    for batch_idx, (source_inputs, source_label) in enumerate(source):\n",
        "        target_inputs, target_label = data_target_iter.next()\n",
        "\n",
        "        if cuda: \n",
        "            source_inputs, target_inputs = source_inputs.cuda(), target_inputs.cuda()\n",
        "\n",
        "        # preceptual\n",
        "        mixed_image, reconstruct_source, reconstruct_target = preceptual(source_inputs, target_inputs)\n",
        "\n",
        "        source_reconstrueted.extend(reconstruct_source.data.cpu().detach())\n",
        "        source_label_lst.extend(source_label.cpu().detach().numpy())\n",
        "        target_reconstructed.extend(reconstruct_target.data.cpu().detach())\n",
        "        target_label_lst.extend(target_label.cpu().detach().numpy())\n",
        "\n",
        "        mixed_image_lst.extend(mixed_image.data.cpu().detach())\n",
        "\n",
        "    return source_reconstrueted, target_reconstructed, source_label_lst, target_label_lst, mixed_image_lst\n",
        "    "
      ],
      "outputs": [],
      "metadata": {
        "id": "qpelpZEb1MD8"
      }
    },
    {
      "cell_type": "code",
      "execution_count": null,
      "source": [
        "'''source_reconstrueted, target_reconstructed, source_label, target_label, mixed = generate_image(source = loader_source, \n",
        "    target = loader_target, \n",
        "    preceptual = perceptual, \n",
        "    cuda = True)'''"
      ],
      "outputs": [],
      "metadata": {
        "id": "mu1XBCAJ1MD9"
      }
    },
    {
      "cell_type": "code",
      "execution_count": null,
      "source": [
        "\n",
        "show_img(source_reconstrueted, target_reconstructed, source_label, target_label)"
      ],
      "outputs": [],
      "metadata": {
        "id": "pfVp4uVY1MD9"
      }
    },
    {
      "cell_type": "code",
      "execution_count": null,
      "source": [
        "num_row = 2\n",
        "num_col = 5\n",
        "num = 10\n",
        "images = mixed[:num]\n",
        "\n",
        "fig, axes = plt.subplots(num_row, num_col, figsize=(1.5*num_col,2*num_row))\n",
        "for i in range(num):\n",
        "    ax = axes[i//num_col, i%num_col]\n",
        "        \n",
        "    image =  images[i].transpose(0,2).transpose(0,1)\n",
        "\n",
        "    ax.imshow(image)"
      ],
      "outputs": [],
      "metadata": {
        "id": "V5COO6Rq1MD9"
      }
    },
    {
      "cell_type": "markdown",
      "source": [
        "## Training method"
      ],
      "metadata": {
        "id": "RDs0kVIe1MD-"
      }
    },
    {
      "cell_type": "code",
      "execution_count": null,
      "source": [
        "'''def train(source, target, epoch, cuda = True):\n",
        "     data_target_iter = iter(target)\n",
        "     total = 0\n",
        "     s_loss = 100000\n",
        "     t_s_loss = 100000\n",
        "     t_t_loss = 100000\n",
        "     loss_min = 100000\n",
        "\n",
        "     image_ss = []\n",
        "     image_ts = []\n",
        "     image_s = []\n",
        "     image_t = []\n",
        "\n",
        "     pre_source = None\n",
        "     pre_target = None\n",
        "\n",
        "     for batch_idx, (source_inputs, _) in enumerate(source):\n",
        "          batch_size = source_inputs.size(0)\n",
        "          total += batch_size\n",
        "          optimizer_gen.zero_grad()\n",
        "\n",
        "          target_inputs, _ = data_target_iter.next()\n",
        "\n",
        "          if (pre_source == None and pre_target == None):\n",
        "               pre_source = source_inputs\n",
        "               pre_target = target_inputs\n",
        "\n",
        "          source_inputs, target_inputs = Variable(source_inputs), Variable(target_inputs)\n",
        "          \n",
        "          if (cuda):\n",
        "               source_inputs, target_inputs = source_inputs.cuda(), target_inputs.cuda()\n",
        "               pre_source, pre_target = pre_source.cuda(), pre_target.cuda()\n",
        "\n",
        "          reconstruct_source, reconstruct_target = generator(source_inputs, target_inputs)\n",
        "\n",
        "          if(reconstruct_source.size()[0] != pre_target.size()[0]):\n",
        "               break\n",
        "\n",
        "          loss_construct_ss = criterion_construct(reconstruct_source, source_inputs)\n",
        "          loss_construct_st = criterion_construct(reconstruct_source, pre_target)\n",
        "          loss_construct_ts = criterion_construct(reconstruct_target, pre_source)\n",
        "          loss_construct_tt = criterion_construct(reconstruct_target, target_inputs)\n",
        "\n",
        "\n",
        "          total_loss = loss_construct_ss + loss_construct_st + loss_construct_ts + loss_construct_tt\n",
        "          total_loss.backward()\n",
        "          optimizer_gen.step()\n",
        "          \n",
        "          pre_source = reconstruct_source.detach()\n",
        "          pre_target = reconstruct_target.detach()\n",
        "\n",
        "          \n",
        "\n",
        "          if (total_loss < loss_min):\n",
        "               loss_min = total_loss\n",
        "\n",
        "               image_ss = reconstruct_source.data.cpu().detach().numpy()\n",
        "               image_ts = reconstruct_target.data.cpu().detach().numpy()\n",
        "               image_t = target_inputs.data.cpu().detach().numpy()\n",
        "               image_s = source_inputs.data.cpu().detach().numpy()\n",
        "\n",
        "\n",
        "\n",
        "     return loss_min, image_ss, image_ts, image_t, image_s\n",
        "'''"
      ],
      "outputs": [],
      "metadata": {
        "id": "uOBzcqM-1MD-"
      }
    },
    {
      "cell_type": "code",
      "execution_count": null,
      "source": [
        "'''for i in range(201):\n",
        "    err, image_ss, image_ts, image_t, image_s = train(loader_source, loader_target, i)\n",
        "    print(\"epoch: %d, error: %f\" % (i, err))\n",
        "    index = 0\n",
        "\n",
        "    if(i % 10 == 0):\n",
        "        fig, axs = plt.subplots(nrows=2, ncols = 2, figsize=(3, 5))\n",
        "        img = image_s[index].reshape(28,28,3)\n",
        "        img = (img + 1) * 0.5\n",
        "\n",
        "        img2 = image_t[index].reshape(28,28,3)\n",
        "        img2 = (img2 + 1) * 0.5\n",
        "\n",
        "        img3 = image_ss[index].reshape(28,28,3)\n",
        "        img3 = (img3 + 1) * 0.5\n",
        "\n",
        "        img4 = image_ts[index].reshape(28,28,3)\n",
        "        img4 = (img4 + 1) * 0.5\n",
        "\n",
        "        axs[0, 0].imshow(img)\n",
        "        axs[0 ,1].imshow(img2)\n",
        "        axs[1 ,0].imshow(img3)\n",
        "        axs[1 ,1].imshow(img4)\n",
        "\n",
        "        fig.savefig('./reconstruct/%d_img.png' % i)'''\n",
        "\n"
      ],
      "outputs": [],
      "metadata": {
        "id": "Q5Sq5gVU1MD_"
      }
    }
  ],
  "metadata": {
    "interpreter": {
      "hash": "f4e5af365abde9565455761093e8e9bc7189c8b509b33061fd0f90eaa1b4d4cb"
    },
    "kernelspec": {
      "display_name": "Python 3.8.12 ('ml')",
      "language": "python",
      "name": "python3"
    },
    "language_info": {
      "codemirror_mode": {
        "name": "ipython",
        "version": 3
      },
      "file_extension": ".py",
      "mimetype": "text/x-python",
      "name": "python",
      "nbconvert_exporter": "python",
      "pygments_lexer": "ipython3",
      "version": "3.8.12"
    },
    "orig_nbformat": 4,
    "colab": {
      "name": "my_model.ipynb",
      "provenance": []
    },
    "accelerator": "GPU"
  },
  "nbformat": 4,
  "nbformat_minor": 0
}