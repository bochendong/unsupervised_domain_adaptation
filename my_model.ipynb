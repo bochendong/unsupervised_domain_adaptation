{
  "cells": [
    {
      "cell_type": "code",
      "execution_count": 30,
      "metadata": {
        "id": "tAz7koKv1MB5"
      },
      "outputs": [],
      "source": [
        "import torch.nn as nn\n",
        "import torch.nn.functional as F\n",
        "import torch\n",
        "\n",
        "from torch.autograd import Variable\n",
        "import torch.backends.cudnn as cudnn\n",
        "\n",
        "from torchvision.utils import save_image\n",
        "\n",
        "import numpy as np\n",
        "\n",
        "import matplotlib.pyplot as plt\n",
        "import os\n",
        "from torch.utils.data import DataLoader,Dataset\n",
        "from torchvision import transforms, models, datasets"
      ]
    },
    {
      "cell_type": "code",
      "execution_count": 31,
      "metadata": {
        "colab": {
          "base_uri": "https://localhost:8080/",
          "height": 35
        },
        "id": "2i0ul1TdfDUu",
        "outputId": "f9747186-881c-4c90-98a8-8a670c7489f9"
      },
      "outputs": [
        {
          "data": {
            "text/plain": [
              "'for epoch in range (200):\\n  os.mkdir(\"./output/%03d\" % epoch)'"
            ]
          },
          "execution_count": 31,
          "metadata": {},
          "output_type": "execute_result"
        }
      ],
      "source": [
        "'''for epoch in range (200):\n",
        "  os.mkdir(\"./output/%03d\" % epoch)'''"
      ]
    },
    {
      "cell_type": "markdown",
      "metadata": {
        "id": "VUJIfmDn1MCx"
      },
      "source": [
        "# Data"
      ]
    },
    {
      "cell_type": "code",
      "execution_count": 32,
      "metadata": {
        "colab": {
          "base_uri": "https://localhost:8080/"
        },
        "id": "EpbqReAb2ZWC",
        "outputId": "03e48cfe-43a9-4310-ee0d-c0333f2a72a3"
      },
      "outputs": [
        {
          "name": "stderr",
          "output_type": "stream",
          "text": [
            "C:\\Users\\55366\\AppData\\Local\\Temp\\ipykernel_62908\\710312775.py:9: VisibleDeprecationWarning: Creating an ndarray from ragged nested sequences (which is a list-or-tuple of lists-or-tuples-or ndarrays with different lengths or shapes) is deprecated. If you meant to do this, you must specify 'dtype=object' when creating the ndarray.\n",
            "  return np.array(backgrounds)\n"
          ]
        }
      ],
      "source": [
        "\n",
        "device = torch.device('cuda:0' if torch.cuda.is_available() else 'cpu')\n",
        "\n",
        "\n",
        "def get_backgrounds():\n",
        "    backgrounds = []\n",
        "    for file in os.listdir(\"./images/train\"):\n",
        "        if file.endswith('.jpg'):\n",
        "            backgrounds.append(plt.imread(os.path.join(\"./images/train\",file)))\n",
        "    return np.array(backgrounds)\n",
        "backgrounds = get_backgrounds()\n",
        "\n",
        "\n",
        "def compose_image(image):\n",
        "    image = (image > 0).astype(np.float32)\n",
        "    image = image.reshape([28,28])*255.0\n",
        "    \n",
        "    image = np.stack([image,image,image],axis=2)\n",
        "    \n",
        "    background = np.random.choice(backgrounds)\n",
        "    w,h,_ = background.shape\n",
        "    dw, dh,_ = image.shape\n",
        "    x = np.random.randint(0,w-dw)\n",
        "    y = np.random.randint(0,h-dh)\n",
        "    \n",
        "    temp = background[x:x+dw, y:y+dh]\n",
        "    return np.abs(temp-image).astype(np.uint8)\n",
        "\n",
        "\n",
        "class MNISTM(Dataset):\n",
        "            \n",
        "    def __init__(self, train=True,transform=None):\n",
        "        if train:\n",
        "            self.data = datasets.MNIST(root='.data/mnist',train=True, download=True)\n",
        "        else:\n",
        "            self.data = datasets.MNIST(root='.data/mnist',train=False, download=True)\n",
        "        self.backgrounds = get_backgrounds()\n",
        "        self.transform = transform\n",
        "        self.images = []\n",
        "        self.targets = []\n",
        "        for index in range(len(self.data)):\n",
        "            image = np.array(self.data.__getitem__(index)[0])\n",
        "            target = self.data.__getitem__(index)[1]\n",
        "            image = compose_image(image)\n",
        "            if self.transform is not None:\n",
        "                image = self.transform(image)\n",
        "            self.images.append(image)\n",
        "            self.targets.append(target)\n",
        "        \n",
        "    def __getitem__(self,index):\n",
        "        \n",
        "        #image = Image.fromarray(image.squeeze(), mode=\"RGB\")\n",
        "        image = self.images[index]\n",
        "        target = self.targets[index]\n",
        "        \n",
        "        return image, target\n",
        "        \n",
        "    def __len__(self):\n",
        "        return len(self.data)\n",
        "    \n",
        "def get_mnistm_loaders(data_aug = False, batch_size=128,test_batch_size=1000):\n",
        "    if data_aug:\n",
        "        train_transform = transforms.Compose([\n",
        "            transforms.ToPILImage(),\n",
        "            transforms.Resize(64),\n",
        "            transforms.RandomCrop(64,padding=4),\n",
        "            transforms.ToTensor()\n",
        "        ])\n",
        "    else:\n",
        "        train_transform = transforms.Compose([\n",
        "            transforms.ToPILImage(),\n",
        "            transforms.Resize(64),\n",
        "            transforms.ToTensor()\n",
        "        ])\n",
        "    test_transform = transforms.Compose([\n",
        "        transforms.ToPILImage(),\n",
        "        transforms.Resize(64),\n",
        "        transforms.ToTensor()\n",
        "    ])\n",
        "    \n",
        "    kwargs = {}\n",
        "    train_loader = DataLoader(\n",
        "        MNISTM(train=True,transform=train_transform),batch_size=batch_size, shuffle=True, drop_last=True)\n",
        "    train_eval_loader = DataLoader(\n",
        "        MNISTM(train=True, transform=test_transform),batch_size=test_batch_size, shuffle=False, drop_last=True)\n",
        "    test_loader = DataLoader(\n",
        "        MNISTM(train=False,transform=test_transform),batch_size=test_batch_size, shuffle=False, drop_last=True)\n",
        "    return train_loader, train_eval_loader, test_loader\n",
        "\n",
        "\n",
        "def get_mnist_loaders(data_aug = False, batch_size=128,test_batch_size=1000):\n",
        "    if data_aug:\n",
        "        train_transform = transforms.Compose(\n",
        "            [transforms.Resize(64),\n",
        "            transforms.RandomCrop(64,padding=4),\n",
        "            transforms.Grayscale(3),\n",
        "            transforms.ToTensor()\n",
        "        ])\n",
        "    else:\n",
        "        train_transform = transforms.Compose([\n",
        "            transforms.Resize(64),\n",
        "            transforms.Grayscale(3),\n",
        "            transforms.ToTensor()\n",
        "        ])\n",
        "    test_transform = transforms.Compose([\n",
        "        transforms.Resize(64),\n",
        "        transforms.Grayscale(3),\n",
        "        transforms.ToTensor()\n",
        "    ])\n",
        "    kwargs = {}\n",
        "\n",
        "    train_loader = DataLoader(\n",
        "        datasets.MNIST(root='.data/mnist',train=True, download=True,transform=train_transform),batch_size=batch_size, shuffle=True, drop_last=True)\n",
        "    train_eval_loader = DataLoader(\n",
        "        datasets.MNIST(root='.data/mnist',train=True, download=True, transform=test_transform),batch_size=test_batch_size, shuffle=False, drop_last=True)\n",
        "    test_loader = DataLoader(\n",
        "        datasets.MNIST(root='.data/mnist',train=False, download=True, transform=test_transform),batch_size=test_batch_size, shuffle=False, drop_last=True)\n",
        "    return train_loader, train_eval_loader, test_loader"
      ]
    },
    {
      "cell_type": "code",
      "execution_count": 33,
      "metadata": {
        "colab": {
          "base_uri": "https://localhost:8080/"
        },
        "id": "Y6fVcaJx1MDC",
        "outputId": "477ee84d-e0f4-4770-f258-4d26c5855e03"
      },
      "outputs": [
        {
          "name": "stderr",
          "output_type": "stream",
          "text": [
            "C:\\Users\\55366\\AppData\\Local\\Temp\\ipykernel_62908\\710312775.py:9: VisibleDeprecationWarning: Creating an ndarray from ragged nested sequences (which is a list-or-tuple of lists-or-tuples-or ndarrays with different lengths or shapes) is deprecated. If you meant to do this, you must specify 'dtype=object' when creating the ndarray.\n",
            "  return np.array(backgrounds)\n"
          ]
        },
        {
          "ename": "KeyboardInterrupt",
          "evalue": "",
          "output_type": "error",
          "traceback": [
            "\u001b[1;31m---------------------------------------------------------------------------\u001b[0m",
            "\u001b[1;31mKeyboardInterrupt\u001b[0m                         Traceback (most recent call last)",
            "\u001b[1;32mc:\\Users\\55366\\Documents\\GitHub\\unsupervised_domain_adaptation\\my_model.ipynb Cell 5'\u001b[0m in \u001b[0;36m<cell line: 2>\u001b[1;34m()\u001b[0m\n\u001b[0;32m      <a href='vscode-notebook-cell:/c%3A/Users/55366/Documents/GitHub/unsupervised_domain_adaptation/my_model.ipynb#ch0000004?line=0'>1</a>\u001b[0m loader_source, mnist_eval_loader, mnist_test_loader \u001b[39m=\u001b[39m get_mnist_loaders(batch_size\u001b[39m=\u001b[39m\u001b[39m16\u001b[39m)\n\u001b[1;32m----> <a href='vscode-notebook-cell:/c%3A/Users/55366/Documents/GitHub/unsupervised_domain_adaptation/my_model.ipynb#ch0000004?line=1'>2</a>\u001b[0m loader_target, mnistm_eval_loader,mnistm_test_loader \u001b[39m=\u001b[39m get_mnistm_loaders(batch_size\u001b[39m=\u001b[39;49m\u001b[39m16\u001b[39;49m)\n",
            "\u001b[1;32mc:\\Users\\55366\\Documents\\GitHub\\unsupervised_domain_adaptation\\my_model.ipynb Cell 4'\u001b[0m in \u001b[0;36mget_mnistm_loaders\u001b[1;34m(data_aug, batch_size, test_batch_size)\u001b[0m\n\u001b[0;32m     <a href='vscode-notebook-cell:/c%3A/Users/55366/Documents/GitHub/unsupervised_domain_adaptation/my_model.ipynb#ch0000003?line=79'>80</a>\u001b[0m kwargs \u001b[39m=\u001b[39m {}\n\u001b[0;32m     <a href='vscode-notebook-cell:/c%3A/Users/55366/Documents/GitHub/unsupervised_domain_adaptation/my_model.ipynb#ch0000003?line=80'>81</a>\u001b[0m train_loader \u001b[39m=\u001b[39m DataLoader(\n\u001b[0;32m     <a href='vscode-notebook-cell:/c%3A/Users/55366/Documents/GitHub/unsupervised_domain_adaptation/my_model.ipynb#ch0000003?line=81'>82</a>\u001b[0m     MNISTM(train\u001b[39m=\u001b[39m\u001b[39mTrue\u001b[39;00m,transform\u001b[39m=\u001b[39mtrain_transform),batch_size\u001b[39m=\u001b[39mbatch_size, shuffle\u001b[39m=\u001b[39m\u001b[39mTrue\u001b[39;00m, drop_last\u001b[39m=\u001b[39m\u001b[39mTrue\u001b[39;00m)\n\u001b[0;32m     <a href='vscode-notebook-cell:/c%3A/Users/55366/Documents/GitHub/unsupervised_domain_adaptation/my_model.ipynb#ch0000003?line=82'>83</a>\u001b[0m train_eval_loader \u001b[39m=\u001b[39m DataLoader(\n\u001b[1;32m---> <a href='vscode-notebook-cell:/c%3A/Users/55366/Documents/GitHub/unsupervised_domain_adaptation/my_model.ipynb#ch0000003?line=83'>84</a>\u001b[0m     MNISTM(train\u001b[39m=\u001b[39;49m\u001b[39mTrue\u001b[39;49;00m, transform\u001b[39m=\u001b[39;49mtest_transform),batch_size\u001b[39m=\u001b[39mtest_batch_size, shuffle\u001b[39m=\u001b[39m\u001b[39mFalse\u001b[39;00m, drop_last\u001b[39m=\u001b[39m\u001b[39mTrue\u001b[39;00m)\n\u001b[0;32m     <a href='vscode-notebook-cell:/c%3A/Users/55366/Documents/GitHub/unsupervised_domain_adaptation/my_model.ipynb#ch0000003?line=84'>85</a>\u001b[0m test_loader \u001b[39m=\u001b[39m DataLoader(\n\u001b[0;32m     <a href='vscode-notebook-cell:/c%3A/Users/55366/Documents/GitHub/unsupervised_domain_adaptation/my_model.ipynb#ch0000003?line=85'>86</a>\u001b[0m     MNISTM(train\u001b[39m=\u001b[39m\u001b[39mFalse\u001b[39;00m,transform\u001b[39m=\u001b[39mtest_transform),batch_size\u001b[39m=\u001b[39mtest_batch_size, shuffle\u001b[39m=\u001b[39m\u001b[39mFalse\u001b[39;00m, drop_last\u001b[39m=\u001b[39m\u001b[39mTrue\u001b[39;00m)\n\u001b[0;32m     <a href='vscode-notebook-cell:/c%3A/Users/55366/Documents/GitHub/unsupervised_domain_adaptation/my_model.ipynb#ch0000003?line=86'>87</a>\u001b[0m \u001b[39mreturn\u001b[39;00m train_loader, train_eval_loader, test_loader\n",
            "\u001b[1;32mc:\\Users\\55366\\Documents\\GitHub\\unsupervised_domain_adaptation\\my_model.ipynb Cell 4'\u001b[0m in \u001b[0;36mMNISTM.__init__\u001b[1;34m(self, train, transform)\u001b[0m\n\u001b[0;32m     <a href='vscode-notebook-cell:/c%3A/Users/55366/Documents/GitHub/unsupervised_domain_adaptation/my_model.ipynb#ch0000003?line=39'>40</a>\u001b[0m \u001b[39mfor\u001b[39;00m index \u001b[39min\u001b[39;00m \u001b[39mrange\u001b[39m(\u001b[39mlen\u001b[39m(\u001b[39mself\u001b[39m\u001b[39m.\u001b[39mdata)):\n\u001b[0;32m     <a href='vscode-notebook-cell:/c%3A/Users/55366/Documents/GitHub/unsupervised_domain_adaptation/my_model.ipynb#ch0000003?line=40'>41</a>\u001b[0m     image \u001b[39m=\u001b[39m np\u001b[39m.\u001b[39marray(\u001b[39mself\u001b[39m\u001b[39m.\u001b[39mdata\u001b[39m.\u001b[39m\u001b[39m__getitem__\u001b[39m(index)[\u001b[39m0\u001b[39m])\n\u001b[1;32m---> <a href='vscode-notebook-cell:/c%3A/Users/55366/Documents/GitHub/unsupervised_domain_adaptation/my_model.ipynb#ch0000003?line=41'>42</a>\u001b[0m     target \u001b[39m=\u001b[39m \u001b[39mself\u001b[39;49m\u001b[39m.\u001b[39;49mdata\u001b[39m.\u001b[39;49m\u001b[39m__getitem__\u001b[39;49m(index)[\u001b[39m1\u001b[39m]\n\u001b[0;32m     <a href='vscode-notebook-cell:/c%3A/Users/55366/Documents/GitHub/unsupervised_domain_adaptation/my_model.ipynb#ch0000003?line=42'>43</a>\u001b[0m     image \u001b[39m=\u001b[39m compose_image(image)\n\u001b[0;32m     <a href='vscode-notebook-cell:/c%3A/Users/55366/Documents/GitHub/unsupervised_domain_adaptation/my_model.ipynb#ch0000003?line=43'>44</a>\u001b[0m     \u001b[39mif\u001b[39;00m \u001b[39mself\u001b[39m\u001b[39m.\u001b[39mtransform \u001b[39mis\u001b[39;00m \u001b[39mnot\u001b[39;00m \u001b[39mNone\u001b[39;00m:\n",
            "File \u001b[1;32m~\\anaconda3\\envs\\ml\\lib\\site-packages\\torchvision\\datasets\\mnist.py:138\u001b[0m, in \u001b[0;36mMNIST.__getitem__\u001b[1;34m(self, index)\u001b[0m\n\u001b[0;32m    <a href='file:///c%3A/Users/55366/anaconda3/envs/ml/lib/site-packages/torchvision/datasets/mnist.py?line=129'>130</a>\u001b[0m \u001b[39mdef\u001b[39;00m \u001b[39m__getitem__\u001b[39m(\u001b[39mself\u001b[39m, index: \u001b[39mint\u001b[39m) \u001b[39m-\u001b[39m\u001b[39m>\u001b[39m Tuple[Any, Any]:\n\u001b[0;32m    <a href='file:///c%3A/Users/55366/anaconda3/envs/ml/lib/site-packages/torchvision/datasets/mnist.py?line=130'>131</a>\u001b[0m     \u001b[39m\"\"\"\u001b[39;00m\n\u001b[0;32m    <a href='file:///c%3A/Users/55366/anaconda3/envs/ml/lib/site-packages/torchvision/datasets/mnist.py?line=131'>132</a>\u001b[0m \u001b[39m    Args:\u001b[39;00m\n\u001b[0;32m    <a href='file:///c%3A/Users/55366/anaconda3/envs/ml/lib/site-packages/torchvision/datasets/mnist.py?line=132'>133</a>\u001b[0m \u001b[39m        index (int): Index\u001b[39;00m\n\u001b[1;32m   (...)\u001b[0m\n\u001b[0;32m    <a href='file:///c%3A/Users/55366/anaconda3/envs/ml/lib/site-packages/torchvision/datasets/mnist.py?line=135'>136</a>\u001b[0m \u001b[39m        tuple: (image, target) where target is index of the target class.\u001b[39;00m\n\u001b[0;32m    <a href='file:///c%3A/Users/55366/anaconda3/envs/ml/lib/site-packages/torchvision/datasets/mnist.py?line=136'>137</a>\u001b[0m \u001b[39m    \"\"\"\u001b[39;00m\n\u001b[1;32m--> <a href='file:///c%3A/Users/55366/anaconda3/envs/ml/lib/site-packages/torchvision/datasets/mnist.py?line=137'>138</a>\u001b[0m     img, target \u001b[39m=\u001b[39m \u001b[39mself\u001b[39m\u001b[39m.\u001b[39mdata[index], \u001b[39mint\u001b[39;49m(\u001b[39mself\u001b[39;49m\u001b[39m.\u001b[39;49mtargets[index])\n\u001b[0;32m    <a href='file:///c%3A/Users/55366/anaconda3/envs/ml/lib/site-packages/torchvision/datasets/mnist.py?line=139'>140</a>\u001b[0m     \u001b[39m# doing this so that it is consistent with all other datasets\u001b[39;00m\n\u001b[0;32m    <a href='file:///c%3A/Users/55366/anaconda3/envs/ml/lib/site-packages/torchvision/datasets/mnist.py?line=140'>141</a>\u001b[0m     \u001b[39m# to return a PIL Image\u001b[39;00m\n\u001b[0;32m    <a href='file:///c%3A/Users/55366/anaconda3/envs/ml/lib/site-packages/torchvision/datasets/mnist.py?line=141'>142</a>\u001b[0m     img \u001b[39m=\u001b[39m Image\u001b[39m.\u001b[39mfromarray(img\u001b[39m.\u001b[39mnumpy(), mode\u001b[39m=\u001b[39m\u001b[39m\"\u001b[39m\u001b[39mL\u001b[39m\u001b[39m\"\u001b[39m)\n",
            "\u001b[1;31mKeyboardInterrupt\u001b[0m: "
          ]
        }
      ],
      "source": [
        "loader_source, mnist_eval_loader, mnist_test_loader = get_mnist_loaders(batch_size=16)\n",
        "loader_target, mnistm_eval_loader,mnistm_test_loader = get_mnistm_loaders(batch_size=16)"
      ]
    },
    {
      "cell_type": "code",
      "execution_count": null,
      "metadata": {
        "id": "dJMxgmQV15-L"
      },
      "outputs": [],
      "source": [
        "data_target_iter = iter(loader_source)\n",
        "target_inputs, target_label = data_target_iter.next()"
      ]
    },
    {
      "cell_type": "code",
      "execution_count": null,
      "metadata": {
        "colab": {
          "base_uri": "https://localhost:8080/"
        },
        "id": "3_hix1lb2GfW",
        "outputId": "b469db70-0e2f-4f70-ac36-2349e3b24ada"
      },
      "outputs": [
        {
          "data": {
            "text/plain": [
              "torch.Size([16, 3, 64, 64])"
            ]
          },
          "execution_count": 6,
          "metadata": {},
          "output_type": "execute_result"
        }
      ],
      "source": [
        "target_inputs.size()"
      ]
    },
    {
      "cell_type": "markdown",
      "metadata": {
        "id": "tj4IrxmY1MDH"
      },
      "source": [
        "# Module"
      ]
    },
    {
      "cell_type": "markdown",
      "metadata": {
        "id": "HT3A3kJ81MDH"
      },
      "source": [
        "## Encoder"
      ]
    },
    {
      "cell_type": "code",
      "execution_count": null,
      "metadata": {
        "id": "rMKoBFzV1MDI"
      },
      "outputs": [],
      "source": [
        "class Encoder(nn.Module):\n",
        "    def __init__(self, input_nc=3):\n",
        "        super(Encoder, self).__init__()\n",
        "\n",
        "        # Initial convolution block\n",
        "        model = [   nn.ReflectionPad2d(3),\n",
        "                    nn.Conv2d(input_nc, 64, 7),\n",
        "                    nn.InstanceNorm2d(64),\n",
        "                    nn.ReLU(inplace=True) ]\n",
        "\n",
        "        model += [nn.Conv2d(64, 128, 3, stride=2, padding=1),\n",
        "                  nn.InstanceNorm2d(128),\n",
        "                  nn.ReLU(inplace=True)]\n",
        "                  \n",
        "        model += [nn.Conv2d(128, 256, 3, stride=2, padding=1),\n",
        "                  nn.InstanceNorm2d(256),\n",
        "                  nn.ReLU(inplace=True)]\n",
        "\n",
        "        model += [nn.Conv2d(256, 256, 3, stride=2, padding=1),\n",
        "                  nn.InstanceNorm2d(256),\n",
        "                  nn.ReLU(inplace=True)]\n",
        "\n",
        "        model += [nn.Conv2d(256, 512, 3, stride=2, padding=1),\n",
        "                  nn.InstanceNorm2d(512),\n",
        "                  nn.ReLU(inplace=True)]\n",
        "\n",
        "        model += [nn.Conv2d(512, 1024, 3, stride=2, padding=1),\n",
        "                  nn.InstanceNorm2d(1024),\n",
        "                  nn.ReLU(inplace=True)]\n",
        "\n",
        "\n",
        "\n",
        "        self.model = nn.Sequential(*model)\n",
        "\n",
        "    def forward(self, x):\n",
        "        return self.model(x)\n"
      ]
    },
    {
      "cell_type": "markdown",
      "metadata": {
        "id": "M5UjPnOT1MDK"
      },
      "source": [
        "## Decoder"
      ]
    },
    {
      "cell_type": "code",
      "execution_count": null,
      "metadata": {
        "id": "dfY5x_re1MDL"
      },
      "outputs": [],
      "source": [
        "class Decoder(nn.Module):\n",
        "    def __init__(self, input_nc=1024, output_nc=3):\n",
        "        super(Decoder, self).__init__()\n",
        "        model = [nn.ConvTranspose2d(input_nc, 512, 3, stride=2, padding=1, output_padding=1),\n",
        "                  nn.InstanceNorm2d(512),\n",
        "                  nn.ReLU(inplace=True)]\n",
        "\n",
        "        model += [nn.ConvTranspose2d(512, 256, 3, stride=2, padding=1, output_padding=1),\n",
        "                  nn.InstanceNorm2d(256),\n",
        "                  nn.ReLU(inplace=True)]\n",
        "        \n",
        "        model += [nn.ConvTranspose2d(256, 128, 3, stride=2, padding=1, output_padding=1),\n",
        "                  nn.InstanceNorm2d(128),\n",
        "                  nn.ReLU(inplace=True)]\n",
        "\n",
        "        model += [nn.ConvTranspose2d(128, 64, 3, stride=2, padding=1, output_padding=1),\n",
        "                  nn.InstanceNorm2d(64),\n",
        "                  nn.ReLU(inplace=True)]\n",
        "\n",
        "        model += [nn.ConvTranspose2d(64, 64, 3, stride=2, padding=1, output_padding=1),\n",
        "                  nn.InstanceNorm2d(64),\n",
        "                  nn.ReLU(inplace=True)]\n",
        "                  \n",
        "        \n",
        "        # Output layer\n",
        "        model += [  nn.ReflectionPad2d(3),\n",
        "                    nn.Conv2d(64, output_nc, 7),\n",
        "                    nn.InstanceNorm2d(3),\n",
        "                    nn.Tanh() ]\n",
        "\n",
        "        self.model = nn.Sequential(*model)\n",
        "\n",
        "    def forward(self, x):\n",
        "        return self.model(x)"
      ]
    },
    {
      "cell_type": "markdown",
      "metadata": {
        "id": "Czg9UEQ21MDM"
      },
      "source": [
        "## Identity Generator"
      ]
    },
    {
      "cell_type": "code",
      "execution_count": null,
      "metadata": {
        "id": "W1_Rd4371MDN"
      },
      "outputs": [],
      "source": [
        "class Identity_Generator(nn.Module):\n",
        "    def __init__(self, encoder, decoder):\n",
        "        super(Identity_Generator, self).__init__()\n",
        "        self.encoder = encoder\n",
        "        self.decoder = decoder\n",
        "\n",
        "    def forward(self, A, B):\n",
        "        latentA = self.encoder(A)\n",
        "        latentB = self.encoder(B)\n",
        "\n",
        "        reconstructedA = self.decoder(latentA)\n",
        "        reconstructedB = self.decoder(latentB)\n",
        "        return reconstructedA, reconstructedB"
      ]
    },
    {
      "cell_type": "markdown",
      "metadata": {
        "id": "5kV1qBY41MDO"
      },
      "source": [
        "## Perceptual"
      ]
    },
    {
      "cell_type": "code",
      "execution_count": null,
      "metadata": {
        "id": "b3jjreGi1MDO"
      },
      "outputs": [],
      "source": [
        "class Perceptual(nn.Module):\n",
        "    def __init__(self, encoder, decoder, generator):\n",
        "        super(Perceptual, self).__init__()\n",
        "\n",
        "        self.encoder = encoder\n",
        "        self.decoder = decoder\n",
        "        self.generator = generator\n",
        "\n",
        "    def forward(self, A, B):\n",
        "\n",
        "        reconstructedA, reconstructedB = self.generator(A, B)\n",
        "\n",
        "        latentA = self.encoder(A)\n",
        "        latentB = self.encoder(B)\n",
        "\n",
        "        latentA.detach()\n",
        "        latentB.detach()\n",
        "\n",
        "        style = latentA[:, 0:512, : , :]\n",
        "        content = latentB[:, 512:1024, :, :]\n",
        "        \n",
        "        mixed_latent = torch.cat([style, content], dim=1)\n",
        "        mixed_image = self.decoder(mixed_latent)\n",
        "\n",
        "        return mixed_image, reconstructedA, reconstructedB"
      ]
    },
    {
      "cell_type": "markdown",
      "metadata": {
        "id": "HLubC4sJ1MDd"
      },
      "source": [
        "## Discriminator"
      ]
    },
    {
      "cell_type": "code",
      "execution_count": null,
      "metadata": {
        "id": "67DdNmWP1MDd"
      },
      "outputs": [],
      "source": [
        "class Discriminator(nn.Module):\n",
        "    def __init__(self, input_nc = 3):\n",
        "        super(Discriminator, self).__init__()\n",
        "\n",
        "        model = [   nn.Conv2d(input_nc, 64, 4, stride=2, padding=1),\n",
        "                    nn.LeakyReLU(0.2, inplace=True) ]\n",
        "\n",
        "        model += [  nn.Conv2d(64, 128, 4, padding=1),\n",
        "                    nn.InstanceNorm2d(128), \n",
        "                    nn.LeakyReLU(0.2, inplace=True) ]\n",
        "\n",
        "        model += [  nn.Conv2d(128, 256, 4, stride=2, padding=1),\n",
        "                    nn.InstanceNorm2d(256), \n",
        "                    nn.LeakyReLU(0.2, inplace=True) ]\n",
        "\n",
        "        model += [  nn.Conv2d(256, 512, 4, stride=2, padding=1),\n",
        "                    nn.InstanceNorm2d(256), \n",
        "                    nn.LeakyReLU(0.2, inplace=True) ]\n",
        "\n",
        "        model += [  nn.Conv2d(512, 1, 4, padding=1)]\n",
        "\n",
        "\n",
        "        self.model = nn.Sequential(*model)\n",
        "\n",
        "    def forward(self, x):\n",
        "        x =  self.model(x)\n",
        "        return F.avg_pool2d(x, x.size()[2:]).view(x.size()[0], -1)"
      ]
    },
    {
      "cell_type": "markdown",
      "metadata": {
        "id": "wxtkw7_W1MDe"
      },
      "source": [
        "## Model test"
      ]
    },
    {
      "cell_type": "code",
      "execution_count": null,
      "metadata": {
        "id": "86m4eeH01MDe"
      },
      "outputs": [],
      "source": [
        "test_tensor_source = torch.rand(20, 3, 64, 64)\n",
        "test_tensor_target = torch.rand(20, 3, 64, 64)\n",
        "\n",
        "encoder = Encoder()\n",
        "decoder = Decoder()\n",
        "generator = Identity_Generator(encoder, decoder)\n",
        "perceptual = Perceptual(encoder, decoder, generator)\n",
        "discriminator = Discriminator()"
      ]
    },
    {
      "cell_type": "code",
      "execution_count": null,
      "metadata": {
        "colab": {
          "base_uri": "https://localhost:8080/"
        },
        "id": "N0inW_Fc1MDf",
        "outputId": "ffb570ae-e15e-4899-c25b-7b27ad3f50f6"
      },
      "outputs": [
        {
          "name": "stdout",
          "output_type": "stream",
          "text": [
            "torch.Size([20, 1024, 2, 2])\n"
          ]
        }
      ],
      "source": [
        "output = encoder(test_tensor_source)\n",
        "print(output.size())"
      ]
    },
    {
      "cell_type": "code",
      "execution_count": null,
      "metadata": {
        "colab": {
          "base_uri": "https://localhost:8080/"
        },
        "id": "whI1GNVv1MDg",
        "outputId": "14557917-b963-44cc-c26a-3e25a37ace70"
      },
      "outputs": [
        {
          "name": "stdout",
          "output_type": "stream",
          "text": [
            "torch.Size([20, 3, 64, 64])\n"
          ]
        }
      ],
      "source": [
        "output = decoder(output)\n",
        "print(output.size())"
      ]
    },
    {
      "cell_type": "code",
      "execution_count": null,
      "metadata": {
        "colab": {
          "base_uri": "https://localhost:8080/"
        },
        "id": "Y8lqX0zD1MDg",
        "outputId": "ac681997-7b20-4f58-faa2-8213adaaa0ae"
      },
      "outputs": [
        {
          "name": "stdout",
          "output_type": "stream",
          "text": [
            "torch.Size([20, 3, 64, 64])\n",
            "torch.Size([20, 3, 64, 64])\n"
          ]
        }
      ],
      "source": [
        "output_a, output_b = generator(test_tensor_source, test_tensor_target)\n",
        "print(output_a.size())\n",
        "print(output_b.size())"
      ]
    },
    {
      "cell_type": "code",
      "execution_count": null,
      "metadata": {
        "colab": {
          "base_uri": "https://localhost:8080/"
        },
        "id": "rZh-K2321MDh",
        "outputId": "912b37e5-ab24-4162-eeaa-d31e28522a26"
      },
      "outputs": [
        {
          "name": "stdout",
          "output_type": "stream",
          "text": [
            "torch.Size([20, 3, 64, 64])\n",
            "torch.Size([20, 3, 64, 64])\n",
            "torch.Size([20, 3, 64, 64])\n"
          ]
        }
      ],
      "source": [
        "mix, output_a, output_b = perceptual(test_tensor_source, test_tensor_target)\n",
        "\n",
        "print(mix.size())\n",
        "print(output_a.size())\n",
        "print(output_b.size())"
      ]
    },
    {
      "cell_type": "code",
      "execution_count": null,
      "metadata": {
        "colab": {
          "base_uri": "https://localhost:8080/"
        },
        "id": "v1-Tuees1MDi",
        "outputId": "177105be-9baf-45d9-fa06-5e7ae270e67a"
      },
      "outputs": [
        {
          "name": "stdout",
          "output_type": "stream",
          "text": [
            "torch.Size([20, 1])\n"
          ]
        }
      ],
      "source": [
        "output = discriminator(test_tensor_source)\n",
        "print(output.size())"
      ]
    },
    {
      "cell_type": "code",
      "execution_count": null,
      "metadata": {
        "colab": {
          "base_uri": "https://localhost:8080/"
        },
        "id": "eRlWrUEFTpLX",
        "outputId": "3aca579d-f7ab-4f91-d53e-1f20498126b0"
      },
      "outputs": [
        {
          "name": "stdout",
          "output_type": "stream",
          "text": [
            "tensor([-0.7712, -0.2398, -0.3796,  0.2636, -0.7554,  0.0110, -0.6151,  0.0757,\n",
            "         0.3330, -0.3560, -0.1771,  0.5519, -1.0507, -0.0407,  1.0708,  0.2517,\n",
            "         0.2661,  1.0541,  0.6784, -0.7101,  0.6459,  0.5634, -0.3272, -0.1810,\n",
            "         0.4884,  0.1708, -0.2778,  0.7186,  0.2696,  0.0215,  0.0636, -0.0469,\n",
            "         0.2321,  0.1495,  0.4742,  1.1543,  0.2031,  0.5275, -0.6676, -0.0437,\n",
            "        -0.4918, -0.4090,  0.7574, -0.7328,  0.5640, -0.0218, -0.4721, -0.2848,\n",
            "         0.0904,  0.7215, -0.8486,  0.1362, -0.1395, -0.6035, -0.4889, -0.3799,\n",
            "        -0.2998,  0.4991,  0.0811,  0.5000, -0.0158, -0.9505, -1.1590,  0.1486],\n",
            "       grad_fn=<SubBackward0>)\n"
          ]
        }
      ],
      "source": [
        "print(mix[0][0][0] - output_a[0][0][0])"
      ]
    },
    {
      "cell_type": "markdown",
      "metadata": {
        "id": "sPaeTfIX1MDk"
      },
      "source": [
        "# Loss"
      ]
    },
    {
      "cell_type": "code",
      "execution_count": null,
      "metadata": {
        "id": "6EkNLO_T1MDk"
      },
      "outputs": [],
      "source": [
        "def tv_loss(img, tv_weight=5e-2):\n",
        "    w_variance = torch.sum(torch.pow(img[:,:,:,:-1] - img[:,:,:,1:], 2))\n",
        "    h_variance = torch.sum(torch.pow(img[:,:,:-1,:] - img[:,:,1:,:], 2))\n",
        "    loss = tv_weight * (h_variance + w_variance)\n",
        "    return loss\n",
        "\n",
        "def total_variation_loss(img, weight=5e-2):\n",
        "    bs_img, c_img, h_img, w_img = img.size()\n",
        "    tv_h = torch.pow(img[:, :, 1:, :] - img[:, :, :-1, :], 2).sum()\n",
        "    tv_w = torch.pow(img[:, :, :, 1:] - img[:, :, :, :-1], 2).sum()\n",
        "    return weight * (tv_h + tv_w) / (bs_img * c_img * h_img * w_img)\n",
        "\n",
        "def compute_content_loss(target_feature, content_feature):\n",
        "    return torch.mean((target_feature - content_feature)**2)\n",
        "\n",
        "def batch_gram_matrix(img):\n",
        "    \"\"\"\n",
        "    Compute the gram matrix by converting to 2D tensor and doing dot product\n",
        "    img: (batch, channel/depth, height, width)\n",
        "    \"\"\"\n",
        "    b, d, h, w = img.size()\n",
        "    img = img.view(b*d, h*w) # fix the dimension. It doesn't make sense to put b=1 when it's not always the case\n",
        "    gram = torch.mm(img, img.t())\n",
        "    return gram\n",
        "\n",
        "style_weights = {'conv1_1': 1.,\n",
        "                 'conv2_1': 0.75,\n",
        "                 'conv3_1': 0.2,\n",
        "                 'conv4_1': 0.2,\n",
        "                 'conv5_1': 0.2}\n",
        "\n",
        "def compute_style_loss(style_features, target_features):\n",
        "    # the style loss\n",
        "    # initialize the style loss to 0\n",
        "    style_loss = 0\n",
        "    style_grams = {layer: batch_gram_matrix(style_features[layer]) for layer in style_features}\n",
        "    # then add to it for each layer's gram matrix loss\n",
        "    for layer in style_weights:\n",
        "        # get the \"target\" style representation for the layer\n",
        "        target_feature = target_features[layer]\n",
        "        target_gram = batch_gram_matrix(target_feature)\n",
        "        _, d, h, w = target_feature.shape\n",
        "        # get the \"style\" style representation\n",
        "        style_gram = style_grams[layer]\n",
        "        # the style loss for one layer, weighted appropriately\n",
        "        layer_style_loss = style_weights[layer] * torch.mean((target_gram - style_gram) ** 2)\n",
        "        # add to the style loss\n",
        "        style_loss += layer_style_loss / (d * h * w)\n",
        "\n",
        "    return style_loss"
      ]
    },
    {
      "cell_type": "markdown",
      "metadata": {
        "id": "DEujnWnX1MDl"
      },
      "source": [
        "# Training"
      ]
    },
    {
      "cell_type": "markdown",
      "metadata": {
        "id": "O4U1o05Y1MDm"
      },
      "source": [
        "## Training Method"
      ]
    },
    {
      "cell_type": "code",
      "execution_count": null,
      "metadata": {
        "id": "_L7ExZCq1MDz"
      },
      "outputs": [],
      "source": [
        "def get_features(image, model, layers=None):\n",
        "    if layers is None:\n",
        "        layers = {'0': 'conv1_1',\n",
        "                  '5': 'conv2_1',\n",
        "                  '10': 'conv3_1',\n",
        "                  '19': 'conv4_1',\n",
        "                  '21': 'conv4_2',  ## content representation\n",
        "                  '28': 'conv5_1'}\n",
        "\n",
        "    features_arr = []\n",
        "    features = {}\n",
        "    x = image\n",
        "    # model._modules is a dictionary holding each module in the model\n",
        "    for name, layer in model._modules.items():\n",
        "        x = layer(x)\n",
        "        if name in layers:\n",
        "            features[layers[name]] = x\n",
        "\n",
        "    return features"
      ]
    },
    {
      "cell_type": "code",
      "execution_count": null,
      "metadata": {
        "id": "S4Lt21LG1MD0"
      },
      "outputs": [],
      "source": [
        "def train_with_autoencoder(source, target, preceptual, discriminator, criterion_adv, criterion_discriminator, criterion_construct, opt_pre, opt_dis, use_cuda, vgg, epoch):\n",
        "    data_target_iter = iter(target)\n",
        "    total = 0\n",
        "\n",
        "    for batch_idx, (source_inputs, source_label) in enumerate(source):\n",
        "        batch_size = source_inputs.size(0)\n",
        "        total += batch_size\n",
        "        target_inputs, target_label = data_target_iter.next()\n",
        "\n",
        "        if use_cuda: \n",
        "            source_inputs, target_inputs = source_inputs.cuda(), target_inputs.cuda()\n",
        "            real_label, fake_label = real_label.cuda(), fake_label.cuda()\n",
        "\n",
        "        # preceptual\n",
        "        mixed_image, reconstruct_source, reconstruct_target = preceptual(source_inputs, target_inputs)\n",
        "\n",
        "        loss_ss = criterion_construct(source_inputs, reconstruct_source) * 30\n",
        "        loss_tt = criterion_construct(target_inputs, reconstruct_target) * 30\n",
        "\n",
        "        TV_loss = total_variation_loss(mixed_image)\n",
        "        pred_fake = discriminator(mixed_image)\n",
        "        loss_adv = criterion_adv(pred_fake, real_label)\n",
        "\n",
        "        cuda_mixed_image = mixed_image.clone().requires_grad_(True).cuda()\n",
        "        cuda_real_A = source_inputs.clone().requires_grad_(True).cuda()\n",
        "        cuda_real_B = target_inputs.clone().requires_grad_(True).cuda()\n",
        "        style_features = get_features(cuda_real_A, vgg)\n",
        "        content_features = get_features(cuda_real_B, vgg)\n",
        "        target_features = get_features(cuda_mixed_image, vgg)\n",
        "\n",
        "        content_loss = compute_content_loss(target_features['conv4_2'], content_features['conv4_2']) * 0.1\n",
        "        style_loss = compute_style_loss(style_features, target_features) * 0.05\n",
        "\n",
        "        preceptual_loss = loss_ss + loss_tt + TV_loss + loss_adv + content_loss + style_loss\n",
        "\n",
        "        opt_pre.zero_grad()\n",
        "        preceptual_loss.backward()\n",
        "        opt_pre.step()\n",
        "\n",
        "        # Update discriminator\n",
        "        pred_real = discriminator(source_inputs)\n",
        "        pred_fake = discriminator(mixed_image.detach())\n",
        "\n",
        "        loss_dis_real = criterion_discriminator(pred_real, real_label)\n",
        "        loss_dis_fake = criterion_discriminator(pred_real, fake_label)\n",
        "\n",
        "        discriminator_loss = loss_dis_real + loss_dis_fake\n",
        "\n",
        "        opt_dis.zero_grad()\n",
        "        discriminator_loss.backward()\n",
        "        opt_dis.step()\n",
        "    \n",
        "        if  batch_idx % 200 == 0:\n",
        "            real_A = source_inputs.data\n",
        "            real_B = target_inputs.data\n",
        "            mixed_image = mixed_image.data\n",
        "            reconstructionA = reconstruct_source.data\n",
        "            reconstructionB = reconstruct_target.data\n",
        "\n",
        "            save_image(real_A, './output/%03d/00_%d_A.png' % ( epoch, batch_idx))\n",
        "            save_image(real_B, 'output/%03d/00_%d_B.png' % ( epoch, batch_idx))\n",
        "            save_image(reconstructionA, 'output/%03d/00_%d_reconA.png' % ( epoch, batch_idx))\n",
        "            save_image(reconstructionB, 'output/%03d/00_%d_reconB.png' % ( epoch, batch_idx))\n",
        "            save_image(mixed_image, 'output/%03d/00_%d_Mixed.png' % ( epoch, batch_idx))\n",
        "\n",
        "    print (\"e: %d, pre_loss: %.2f, D_real: %.2f, D_fake: %.2f\" % (epoch, preceptual_loss, loss_dis_real, loss_dis_fake))\n"
      ]
    },
    {
      "cell_type": "markdown",
      "metadata": {
        "id": "EVvM_If_1MD1"
      },
      "source": [
        "## Model hypermeter"
      ]
    },
    {
      "cell_type": "code",
      "execution_count": null,
      "metadata": {
        "id": "IMp_DtKGNx9t"
      },
      "outputs": [],
      "source": [
        "class LambdaLR():\n",
        "    def __init__(self, n_epochs, offset, decay_start_epoch):\n",
        "        assert ((n_epochs - decay_start_epoch) > 0), \"Decay must start before the training session ends!\"\n",
        "        self.n_epochs = n_epochs\n",
        "        self.offset = offset\n",
        "        self.decay_start_epoch = decay_start_epoch\n",
        "\n",
        "    def step(self, epoch):\n",
        "        return 1.0 - max(0, epoch + self.offset - self.decay_start_epoch)/(self.n_epochs - self.decay_start_epoch)"
      ]
    },
    {
      "cell_type": "code",
      "execution_count": null,
      "metadata": {
        "id": "TBdlE72j1MD4"
      },
      "outputs": [],
      "source": [
        "encoder = Encoder(input_nc = 3)\n",
        "decoder = Decoder()\n",
        "generator = Identity_Generator(encoder, decoder)\n",
        "perceptual = Perceptual(encoder, decoder, generator)\n",
        "discriminator = Discriminator()"
      ]
    },
    {
      "cell_type": "code",
      "execution_count": null,
      "metadata": {
        "id": "Y8zIpzSL1MD5"
      },
      "outputs": [],
      "source": [
        "learning_rate = 0.0002\n",
        "beta = (0.5, 0.999)\n",
        "\n",
        "criterion_adv = torch.nn.MSELoss()\n",
        "criterion_discriminator = torch.nn.MSELoss()\n",
        "criterion_construct = torch.nn.L1Loss()\n",
        "\n",
        "optimizer_pre = torch.optim.Adam(perceptual.parameters(), lr=learning_rate, betas=beta)\n",
        "optimizer_dis = torch.optim.Adam(discriminator.parameters(), lr=learning_rate, betas=beta)\n",
        "\n",
        "lr_scheduler_G = torch.optim.lr_scheduler.LambdaLR(optimizer_pre, lr_lambda=LambdaLR(200, 0, 100).step)\n",
        "lr_scheduler_D = torch.optim.lr_scheduler.LambdaLR(optimizer_dis, lr_lambda=LambdaLR(200, 0, 100).step)\n"
      ]
    },
    {
      "cell_type": "code",
      "execution_count": null,
      "metadata": {
        "colab": {
          "base_uri": "https://localhost:8080/"
        },
        "id": "OCYbEweS1MD5",
        "outputId": "95ce7cd1-ec0c-4d95-bf49-b088bb2ca1c2"
      },
      "outputs": [
        {
          "data": {
            "text/plain": [
              "Sequential(\n",
              "  (0): Conv2d(3, 64, kernel_size=(3, 3), stride=(1, 1), padding=(1, 1))\n",
              "  (1): ReLU(inplace=True)\n",
              "  (2): Conv2d(64, 64, kernel_size=(3, 3), stride=(1, 1), padding=(1, 1))\n",
              "  (3): ReLU(inplace=True)\n",
              "  (4): MaxPool2d(kernel_size=2, stride=2, padding=0, dilation=1, ceil_mode=False)\n",
              "  (5): Conv2d(64, 128, kernel_size=(3, 3), stride=(1, 1), padding=(1, 1))\n",
              "  (6): ReLU(inplace=True)\n",
              "  (7): Conv2d(128, 128, kernel_size=(3, 3), stride=(1, 1), padding=(1, 1))\n",
              "  (8): ReLU(inplace=True)\n",
              "  (9): MaxPool2d(kernel_size=2, stride=2, padding=0, dilation=1, ceil_mode=False)\n",
              "  (10): Conv2d(128, 256, kernel_size=(3, 3), stride=(1, 1), padding=(1, 1))\n",
              "  (11): ReLU(inplace=True)\n",
              "  (12): Conv2d(256, 256, kernel_size=(3, 3), stride=(1, 1), padding=(1, 1))\n",
              "  (13): ReLU(inplace=True)\n",
              "  (14): Conv2d(256, 256, kernel_size=(3, 3), stride=(1, 1), padding=(1, 1))\n",
              "  (15): ReLU(inplace=True)\n",
              "  (16): Conv2d(256, 256, kernel_size=(3, 3), stride=(1, 1), padding=(1, 1))\n",
              "  (17): ReLU(inplace=True)\n",
              "  (18): MaxPool2d(kernel_size=2, stride=2, padding=0, dilation=1, ceil_mode=False)\n",
              "  (19): Conv2d(256, 512, kernel_size=(3, 3), stride=(1, 1), padding=(1, 1))\n",
              "  (20): ReLU(inplace=True)\n",
              "  (21): Conv2d(512, 512, kernel_size=(3, 3), stride=(1, 1), padding=(1, 1))\n",
              "  (22): ReLU(inplace=True)\n",
              "  (23): Conv2d(512, 512, kernel_size=(3, 3), stride=(1, 1), padding=(1, 1))\n",
              "  (24): ReLU(inplace=True)\n",
              "  (25): Conv2d(512, 512, kernel_size=(3, 3), stride=(1, 1), padding=(1, 1))\n",
              "  (26): ReLU(inplace=True)\n",
              "  (27): MaxPool2d(kernel_size=2, stride=2, padding=0, dilation=1, ceil_mode=False)\n",
              "  (28): Conv2d(512, 512, kernel_size=(3, 3), stride=(1, 1), padding=(1, 1))\n",
              "  (29): ReLU(inplace=True)\n",
              "  (30): Conv2d(512, 512, kernel_size=(3, 3), stride=(1, 1), padding=(1, 1))\n",
              "  (31): ReLU(inplace=True)\n",
              "  (32): Conv2d(512, 512, kernel_size=(3, 3), stride=(1, 1), padding=(1, 1))\n",
              "  (33): ReLU(inplace=True)\n",
              "  (34): Conv2d(512, 512, kernel_size=(3, 3), stride=(1, 1), padding=(1, 1))\n",
              "  (35): ReLU(inplace=True)\n",
              "  (36): MaxPool2d(kernel_size=2, stride=2, padding=0, dilation=1, ceil_mode=False)\n",
              ")"
            ]
          },
          "execution_count": 25,
          "metadata": {},
          "output_type": "execute_result"
        }
      ],
      "source": [
        "vgg = models.vgg19(pretrained=True).features\n",
        "for param in vgg.parameters():\n",
        "    param.requires_grad_(False)\n",
        "device = torch.device(\"cuda\" if torch.cuda.is_available() else \"cpu\")\n",
        "vgg.to(device)"
      ]
    },
    {
      "cell_type": "code",
      "execution_count": null,
      "metadata": {
        "id": "1_h8u5-V1MD5"
      },
      "outputs": [],
      "source": [
        "if (torch.cuda.is_available()):\n",
        "    torch.cuda.manual_seed_all(42)\n",
        "    cudnn.benchmark = True\n",
        "\n",
        "    criterion_construct = criterion_construct.cuda()\n",
        "    criterion_discriminator = criterion_discriminator.cuda()\n",
        "    criterion_construct = criterion_construct.cuda()\n",
        "    \n",
        "    encoder.cuda()\n",
        "    decoder.cuda()\n",
        "    generator.cuda()\n",
        "    perceptual.cuda()\n",
        "    discriminator.cuda()"
      ]
    },
    {
      "cell_type": "markdown",
      "metadata": {
        "id": "Oe87ze5D1MD6"
      },
      "source": [
        "## Init the network"
      ]
    },
    {
      "cell_type": "code",
      "execution_count": null,
      "metadata": {
        "id": "vVGb29b_1MD6"
      },
      "outputs": [],
      "source": [
        "def weights_init_normal(m):\n",
        "    classname = m.__class__.__name__\n",
        "    if classname.find('Conv') != -1:\n",
        "        torch.nn.init.normal_(m.weight.data, 0.0, 0.02)\n",
        "    elif classname.find('BatchNorm2d') != -1:\n",
        "        torch.nn.init.normal_(m.weight.data, 1.0, 0.02)\n",
        "        torch.nn.init.constant(m.bias.data, 0.0)"
      ]
    },
    {
      "cell_type": "code",
      "execution_count": null,
      "metadata": {
        "colab": {
          "base_uri": "https://localhost:8080/"
        },
        "id": "X-cEljb71MD6",
        "outputId": "25233130-365c-464a-85a5-74bcbde426d5"
      },
      "outputs": [
        {
          "data": {
            "text/plain": [
              "Discriminator(\n",
              "  (model): Sequential(\n",
              "    (0): Conv2d(3, 64, kernel_size=(4, 4), stride=(2, 2), padding=(1, 1))\n",
              "    (1): LeakyReLU(negative_slope=0.2, inplace=True)\n",
              "    (2): Conv2d(64, 128, kernel_size=(4, 4), stride=(1, 1), padding=(1, 1))\n",
              "    (3): InstanceNorm2d(128, eps=1e-05, momentum=0.1, affine=False, track_running_stats=False)\n",
              "    (4): LeakyReLU(negative_slope=0.2, inplace=True)\n",
              "    (5): Conv2d(128, 256, kernel_size=(4, 4), stride=(2, 2), padding=(1, 1))\n",
              "    (6): InstanceNorm2d(256, eps=1e-05, momentum=0.1, affine=False, track_running_stats=False)\n",
              "    (7): LeakyReLU(negative_slope=0.2, inplace=True)\n",
              "    (8): Conv2d(256, 512, kernel_size=(4, 4), stride=(2, 2), padding=(1, 1))\n",
              "    (9): InstanceNorm2d(256, eps=1e-05, momentum=0.1, affine=False, track_running_stats=False)\n",
              "    (10): LeakyReLU(negative_slope=0.2, inplace=True)\n",
              "    (11): Conv2d(512, 1, kernel_size=(4, 4), stride=(1, 1), padding=(1, 1))\n",
              "  )\n",
              ")"
            ]
          },
          "execution_count": 28,
          "metadata": {},
          "output_type": "execute_result"
        }
      ],
      "source": [
        "encoder.apply(weights_init_normal)\n",
        "decoder.apply(weights_init_normal)\n",
        "generator.apply(weights_init_normal)\n",
        "perceptual.apply(weights_init_normal)\n",
        "discriminator.apply(weights_init_normal)"
      ]
    },
    {
      "cell_type": "markdown",
      "metadata": {
        "id": "8j-yi9aD1MD7"
      },
      "source": [
        "## Training"
      ]
    },
    {
      "cell_type": "code",
      "execution_count": null,
      "metadata": {},
      "outputs": [
        {
          "ename": "KeyboardInterrupt",
          "evalue": "",
          "output_type": "error",
          "traceback": [
            "\u001b[1;31m---------------------------------------------------------------------------\u001b[0m",
            "\u001b[1;31mKeyboardInterrupt\u001b[0m                         Traceback (most recent call last)",
            "\u001b[1;32mc:\\Users\\55366\\Documents\\GitHub\\unsupervised_domain_adaptation\\my_model.ipynb Cell 43'\u001b[0m in \u001b[0;36m<cell line: 15>\u001b[1;34m()\u001b[0m\n\u001b[0;32m     <a href='vscode-notebook-cell:/c%3A/Users/55366/Documents/GitHub/unsupervised_domain_adaptation/my_model.ipynb#ch0000042?line=14'>15</a>\u001b[0m \u001b[39mfor\u001b[39;00m epoch \u001b[39min\u001b[39;00m \u001b[39mrange\u001b[39m(\u001b[39m0\u001b[39m, \u001b[39m200\u001b[39m):\n\u001b[0;32m     <a href='vscode-notebook-cell:/c%3A/Users/55366/Documents/GitHub/unsupervised_domain_adaptation/my_model.ipynb#ch0000042?line=15'>16</a>\u001b[0m     i \u001b[39m=\u001b[39m \u001b[39m-\u001b[39m\u001b[39m1\u001b[39m\n\u001b[1;32m---> <a href='vscode-notebook-cell:/c%3A/Users/55366/Documents/GitHub/unsupervised_domain_adaptation/my_model.ipynb#ch0000042?line=16'>17</a>\u001b[0m     \u001b[39mfor\u001b[39;00m batchA, batchB \u001b[39min\u001b[39;00m \u001b[39mzip\u001b[39m(loader_target, loader_source):\n\u001b[0;32m     <a href='vscode-notebook-cell:/c%3A/Users/55366/Documents/GitHub/unsupervised_domain_adaptation/my_model.ipynb#ch0000042?line=17'>18</a>\u001b[0m         i \u001b[39m+\u001b[39m\u001b[39m=\u001b[39m \u001b[39m1\u001b[39m\n\u001b[0;32m     <a href='vscode-notebook-cell:/c%3A/Users/55366/Documents/GitHub/unsupervised_domain_adaptation/my_model.ipynb#ch0000042?line=18'>19</a>\u001b[0m         real_A \u001b[39m=\u001b[39m Variable(input_A\u001b[39m.\u001b[39mcopy_(batchA[\u001b[39m0\u001b[39m]))\n",
            "File \u001b[1;32m~\\anaconda3\\envs\\ml\\lib\\site-packages\\torch\\utils\\data\\dataloader.py:530\u001b[0m, in \u001b[0;36m_BaseDataLoaderIter.__next__\u001b[1;34m(self)\u001b[0m\n\u001b[0;32m    <a href='file:///c%3A/Users/55366/anaconda3/envs/ml/lib/site-packages/torch/utils/data/dataloader.py?line=527'>528</a>\u001b[0m \u001b[39mif\u001b[39;00m \u001b[39mself\u001b[39m\u001b[39m.\u001b[39m_sampler_iter \u001b[39mis\u001b[39;00m \u001b[39mNone\u001b[39;00m:\n\u001b[0;32m    <a href='file:///c%3A/Users/55366/anaconda3/envs/ml/lib/site-packages/torch/utils/data/dataloader.py?line=528'>529</a>\u001b[0m     \u001b[39mself\u001b[39m\u001b[39m.\u001b[39m_reset()\n\u001b[1;32m--> <a href='file:///c%3A/Users/55366/anaconda3/envs/ml/lib/site-packages/torch/utils/data/dataloader.py?line=529'>530</a>\u001b[0m data \u001b[39m=\u001b[39m \u001b[39mself\u001b[39;49m\u001b[39m.\u001b[39;49m_next_data()\n\u001b[0;32m    <a href='file:///c%3A/Users/55366/anaconda3/envs/ml/lib/site-packages/torch/utils/data/dataloader.py?line=530'>531</a>\u001b[0m \u001b[39mself\u001b[39m\u001b[39m.\u001b[39m_num_yielded \u001b[39m+\u001b[39m\u001b[39m=\u001b[39m \u001b[39m1\u001b[39m\n\u001b[0;32m    <a href='file:///c%3A/Users/55366/anaconda3/envs/ml/lib/site-packages/torch/utils/data/dataloader.py?line=531'>532</a>\u001b[0m \u001b[39mif\u001b[39;00m \u001b[39mself\u001b[39m\u001b[39m.\u001b[39m_dataset_kind \u001b[39m==\u001b[39m _DatasetKind\u001b[39m.\u001b[39mIterable \u001b[39mand\u001b[39;00m \\\n\u001b[0;32m    <a href='file:///c%3A/Users/55366/anaconda3/envs/ml/lib/site-packages/torch/utils/data/dataloader.py?line=532'>533</a>\u001b[0m         \u001b[39mself\u001b[39m\u001b[39m.\u001b[39m_IterableDataset_len_called \u001b[39mis\u001b[39;00m \u001b[39mnot\u001b[39;00m \u001b[39mNone\u001b[39;00m \u001b[39mand\u001b[39;00m \\\n\u001b[0;32m    <a href='file:///c%3A/Users/55366/anaconda3/envs/ml/lib/site-packages/torch/utils/data/dataloader.py?line=533'>534</a>\u001b[0m         \u001b[39mself\u001b[39m\u001b[39m.\u001b[39m_num_yielded \u001b[39m>\u001b[39m \u001b[39mself\u001b[39m\u001b[39m.\u001b[39m_IterableDataset_len_called:\n",
            "File \u001b[1;32m~\\anaconda3\\envs\\ml\\lib\\site-packages\\torch\\utils\\data\\dataloader.py:570\u001b[0m, in \u001b[0;36m_SingleProcessDataLoaderIter._next_data\u001b[1;34m(self)\u001b[0m\n\u001b[0;32m    <a href='file:///c%3A/Users/55366/anaconda3/envs/ml/lib/site-packages/torch/utils/data/dataloader.py?line=567'>568</a>\u001b[0m \u001b[39mdef\u001b[39;00m \u001b[39m_next_data\u001b[39m(\u001b[39mself\u001b[39m):\n\u001b[0;32m    <a href='file:///c%3A/Users/55366/anaconda3/envs/ml/lib/site-packages/torch/utils/data/dataloader.py?line=568'>569</a>\u001b[0m     index \u001b[39m=\u001b[39m \u001b[39mself\u001b[39m\u001b[39m.\u001b[39m_next_index()  \u001b[39m# may raise StopIteration\u001b[39;00m\n\u001b[1;32m--> <a href='file:///c%3A/Users/55366/anaconda3/envs/ml/lib/site-packages/torch/utils/data/dataloader.py?line=569'>570</a>\u001b[0m     data \u001b[39m=\u001b[39m \u001b[39mself\u001b[39;49m\u001b[39m.\u001b[39;49m_dataset_fetcher\u001b[39m.\u001b[39;49mfetch(index)  \u001b[39m# may raise StopIteration\u001b[39;00m\n\u001b[0;32m    <a href='file:///c%3A/Users/55366/anaconda3/envs/ml/lib/site-packages/torch/utils/data/dataloader.py?line=570'>571</a>\u001b[0m     \u001b[39mif\u001b[39;00m \u001b[39mself\u001b[39m\u001b[39m.\u001b[39m_pin_memory:\n\u001b[0;32m    <a href='file:///c%3A/Users/55366/anaconda3/envs/ml/lib/site-packages/torch/utils/data/dataloader.py?line=571'>572</a>\u001b[0m         data \u001b[39m=\u001b[39m _utils\u001b[39m.\u001b[39mpin_memory\u001b[39m.\u001b[39mpin_memory(data)\n",
            "File \u001b[1;32m~\\anaconda3\\envs\\ml\\lib\\site-packages\\torch\\utils\\data\\_utils\\fetch.py:52\u001b[0m, in \u001b[0;36m_MapDatasetFetcher.fetch\u001b[1;34m(self, possibly_batched_index)\u001b[0m\n\u001b[0;32m     <a href='file:///c%3A/Users/55366/anaconda3/envs/ml/lib/site-packages/torch/utils/data/_utils/fetch.py?line=49'>50</a>\u001b[0m \u001b[39melse\u001b[39;00m:\n\u001b[0;32m     <a href='file:///c%3A/Users/55366/anaconda3/envs/ml/lib/site-packages/torch/utils/data/_utils/fetch.py?line=50'>51</a>\u001b[0m     data \u001b[39m=\u001b[39m \u001b[39mself\u001b[39m\u001b[39m.\u001b[39mdataset[possibly_batched_index]\n\u001b[1;32m---> <a href='file:///c%3A/Users/55366/anaconda3/envs/ml/lib/site-packages/torch/utils/data/_utils/fetch.py?line=51'>52</a>\u001b[0m \u001b[39mreturn\u001b[39;00m \u001b[39mself\u001b[39;49m\u001b[39m.\u001b[39;49mcollate_fn(data)\n",
            "File \u001b[1;32m~\\anaconda3\\envs\\ml\\lib\\site-packages\\torch\\utils\\data\\_utils\\collate.py:172\u001b[0m, in \u001b[0;36mdefault_collate\u001b[1;34m(batch)\u001b[0m\n\u001b[0;32m    <a href='file:///c%3A/Users/55366/anaconda3/envs/ml/lib/site-packages/torch/utils/data/_utils/collate.py?line=168'>169</a>\u001b[0m transposed \u001b[39m=\u001b[39m \u001b[39mlist\u001b[39m(\u001b[39mzip\u001b[39m(\u001b[39m*\u001b[39mbatch))  \u001b[39m# It may be accessed twice, so we use a list.\u001b[39;00m\n\u001b[0;32m    <a href='file:///c%3A/Users/55366/anaconda3/envs/ml/lib/site-packages/torch/utils/data/_utils/collate.py?line=170'>171</a>\u001b[0m \u001b[39mif\u001b[39;00m \u001b[39misinstance\u001b[39m(elem, \u001b[39mtuple\u001b[39m):\n\u001b[1;32m--> <a href='file:///c%3A/Users/55366/anaconda3/envs/ml/lib/site-packages/torch/utils/data/_utils/collate.py?line=171'>172</a>\u001b[0m     \u001b[39mreturn\u001b[39;00m [default_collate(samples) \u001b[39mfor\u001b[39;00m samples \u001b[39min\u001b[39;00m transposed]  \u001b[39m# Backwards compatibility.\u001b[39;00m\n\u001b[0;32m    <a href='file:///c%3A/Users/55366/anaconda3/envs/ml/lib/site-packages/torch/utils/data/_utils/collate.py?line=172'>173</a>\u001b[0m \u001b[39melse\u001b[39;00m:\n\u001b[0;32m    <a href='file:///c%3A/Users/55366/anaconda3/envs/ml/lib/site-packages/torch/utils/data/_utils/collate.py?line=173'>174</a>\u001b[0m     \u001b[39mtry\u001b[39;00m:\n",
            "File \u001b[1;32m~\\anaconda3\\envs\\ml\\lib\\site-packages\\torch\\utils\\data\\_utils\\collate.py:172\u001b[0m, in \u001b[0;36m<listcomp>\u001b[1;34m(.0)\u001b[0m\n\u001b[0;32m    <a href='file:///c%3A/Users/55366/anaconda3/envs/ml/lib/site-packages/torch/utils/data/_utils/collate.py?line=168'>169</a>\u001b[0m transposed \u001b[39m=\u001b[39m \u001b[39mlist\u001b[39m(\u001b[39mzip\u001b[39m(\u001b[39m*\u001b[39mbatch))  \u001b[39m# It may be accessed twice, so we use a list.\u001b[39;00m\n\u001b[0;32m    <a href='file:///c%3A/Users/55366/anaconda3/envs/ml/lib/site-packages/torch/utils/data/_utils/collate.py?line=170'>171</a>\u001b[0m \u001b[39mif\u001b[39;00m \u001b[39misinstance\u001b[39m(elem, \u001b[39mtuple\u001b[39m):\n\u001b[1;32m--> <a href='file:///c%3A/Users/55366/anaconda3/envs/ml/lib/site-packages/torch/utils/data/_utils/collate.py?line=171'>172</a>\u001b[0m     \u001b[39mreturn\u001b[39;00m [default_collate(samples) \u001b[39mfor\u001b[39;00m samples \u001b[39min\u001b[39;00m transposed]  \u001b[39m# Backwards compatibility.\u001b[39;00m\n\u001b[0;32m    <a href='file:///c%3A/Users/55366/anaconda3/envs/ml/lib/site-packages/torch/utils/data/_utils/collate.py?line=172'>173</a>\u001b[0m \u001b[39melse\u001b[39;00m:\n\u001b[0;32m    <a href='file:///c%3A/Users/55366/anaconda3/envs/ml/lib/site-packages/torch/utils/data/_utils/collate.py?line=173'>174</a>\u001b[0m     \u001b[39mtry\u001b[39;00m:\n",
            "File \u001b[1;32m~\\anaconda3\\envs\\ml\\lib\\site-packages\\torch\\utils\\data\\_utils\\collate.py:138\u001b[0m, in \u001b[0;36mdefault_collate\u001b[1;34m(batch)\u001b[0m\n\u001b[0;32m    <a href='file:///c%3A/Users/55366/anaconda3/envs/ml/lib/site-packages/torch/utils/data/_utils/collate.py?line=135'>136</a>\u001b[0m         storage \u001b[39m=\u001b[39m elem\u001b[39m.\u001b[39mstorage()\u001b[39m.\u001b[39m_new_shared(numel)\n\u001b[0;32m    <a href='file:///c%3A/Users/55366/anaconda3/envs/ml/lib/site-packages/torch/utils/data/_utils/collate.py?line=136'>137</a>\u001b[0m         out \u001b[39m=\u001b[39m elem\u001b[39m.\u001b[39mnew(storage)\u001b[39m.\u001b[39mresize_(\u001b[39mlen\u001b[39m(batch), \u001b[39m*\u001b[39m\u001b[39mlist\u001b[39m(elem\u001b[39m.\u001b[39msize()))\n\u001b[1;32m--> <a href='file:///c%3A/Users/55366/anaconda3/envs/ml/lib/site-packages/torch/utils/data/_utils/collate.py?line=137'>138</a>\u001b[0m     \u001b[39mreturn\u001b[39;00m torch\u001b[39m.\u001b[39;49mstack(batch, \u001b[39m0\u001b[39;49m, out\u001b[39m=\u001b[39;49mout)\n\u001b[0;32m    <a href='file:///c%3A/Users/55366/anaconda3/envs/ml/lib/site-packages/torch/utils/data/_utils/collate.py?line=138'>139</a>\u001b[0m \u001b[39melif\u001b[39;00m elem_type\u001b[39m.\u001b[39m\u001b[39m__module__\u001b[39m \u001b[39m==\u001b[39m \u001b[39m'\u001b[39m\u001b[39mnumpy\u001b[39m\u001b[39m'\u001b[39m \u001b[39mand\u001b[39;00m elem_type\u001b[39m.\u001b[39m\u001b[39m__name__\u001b[39m \u001b[39m!=\u001b[39m \u001b[39m'\u001b[39m\u001b[39mstr_\u001b[39m\u001b[39m'\u001b[39m \\\n\u001b[0;32m    <a href='file:///c%3A/Users/55366/anaconda3/envs/ml/lib/site-packages/torch/utils/data/_utils/collate.py?line=139'>140</a>\u001b[0m         \u001b[39mand\u001b[39;00m elem_type\u001b[39m.\u001b[39m\u001b[39m__name__\u001b[39m \u001b[39m!=\u001b[39m \u001b[39m'\u001b[39m\u001b[39mstring_\u001b[39m\u001b[39m'\u001b[39m:\n\u001b[0;32m    <a href='file:///c%3A/Users/55366/anaconda3/envs/ml/lib/site-packages/torch/utils/data/_utils/collate.py?line=140'>141</a>\u001b[0m     \u001b[39mif\u001b[39;00m elem_type\u001b[39m.\u001b[39m\u001b[39m__name__\u001b[39m \u001b[39m==\u001b[39m \u001b[39m'\u001b[39m\u001b[39mndarray\u001b[39m\u001b[39m'\u001b[39m \u001b[39mor\u001b[39;00m elem_type\u001b[39m.\u001b[39m\u001b[39m__name__\u001b[39m \u001b[39m==\u001b[39m \u001b[39m'\u001b[39m\u001b[39mmemmap\u001b[39m\u001b[39m'\u001b[39m:\n\u001b[0;32m    <a href='file:///c%3A/Users/55366/anaconda3/envs/ml/lib/site-packages/torch/utils/data/_utils/collate.py?line=141'>142</a>\u001b[0m         \u001b[39m# array of string classes and object\u001b[39;00m\n",
            "\u001b[1;31mKeyboardInterrupt\u001b[0m: "
          ]
        }
      ],
      "source": [
        "batchSize = 16\n",
        "cuda = True\n",
        "\n",
        "Tensor = torch.cuda.FloatTensor if cuda else torch.Tensor\n",
        "\n",
        "real_label = Variable(Tensor(batchSize).fill_(1.0), requires_grad=False)\n",
        "fake_label = Variable(Tensor(batchSize).fill_(0.0), requires_grad=False)\n",
        "real_label = real_label[:, None]\n",
        "fake_label = fake_label[:, None]\n",
        "\n",
        "\n",
        "input_A = Tensor(batchSize, 3, 64, 64)\n",
        "input_B = Tensor(batchSize, 3, 64, 64)\n",
        "\n",
        "for epoch in range(0, 200):\n",
        "    i = -1\n",
        "    for batchA, batchB in zip(loader_target, loader_source):\n",
        "        i += 1\n",
        "        real_A = Variable(input_A.copy_(batchA[0]))\n",
        "        real_B = Variable(input_B.copy_(batchB[0]))\n",
        "\n",
        "        optimizer_pre.zero_grad()\n",
        "\n",
        "        mixed_image, reconstructionA, reconstructionB = perceptual(real_A, real_B)\n",
        "\n",
        "        loss_ss = criterion_construct(reconstructionA, real_A)*30.0\n",
        "        loss_tt = criterion_construct(reconstructionB, real_B)*30.0\n",
        "\n",
        "        TV_loss = total_variation_loss(mixed_image)\n",
        "        pred_fake = discriminator(mixed_image)\n",
        "        loss_adv = criterion_adv(pred_fake, real_label)\n",
        "\n",
        "        cuda_mixed_image = mixed_image.clone().requires_grad_(True).cuda()\n",
        "        cuda_real_A = real_A.clone().requires_grad_(True).cuda()\n",
        "        cuda_real_B = real_B.clone().requires_grad_(True).cuda()\n",
        "        style_features = get_features(cuda_real_A, vgg)\n",
        "        content_features = get_features(cuda_real_B, vgg)\n",
        "        target_features = get_features(cuda_mixed_image, vgg)\n",
        "\n",
        "        content_loss = compute_content_loss(target_features['conv4_2'], content_features['conv4_2']) * 0.1\n",
        "        style_loss = compute_style_loss(style_features, target_features) * 0.05\n",
        "\n",
        "        preceptual_loss = loss_ss + loss_tt + TV_loss + loss_adv + content_loss + style_loss\n",
        "\n",
        "        preceptual_loss.backward()\n",
        "        optimizer_pre.step()\n",
        "\n",
        "        optimizer_dis.zero_grad()\n",
        "\n",
        "        pred_real = discriminator(real_A)\n",
        "        pred_fake = discriminator(mixed_image.detach())\n",
        "\n",
        "        loss_dis_real = criterion_discriminator(pred_real, real_label)\n",
        "        loss_dis_fake = criterion_discriminator(pred_real, fake_label)\n",
        "\n",
        "        discriminator_loss = loss_dis_real + loss_dis_fake\n",
        "        discriminator_loss.backward()\n",
        "        optimizer_dis.step()\n",
        "\n",
        "        if  i % 200 == 0:\n",
        "            real_A = real_A.data\n",
        "            real_B = real_B.data\n",
        "            mixed_image = mixed_image.data \n",
        "            reconstructionA = reconstructionA.data\n",
        "            reconstructionB = reconstructionB.data\n",
        "\n",
        "            save_image(real_A, './output/%03d/00_%d_A.png' % ( epoch, i))\n",
        "            save_image(real_B, 'output/%03d/00_%d_B.png' % ( epoch, i))\n",
        "            save_image(reconstructionA, 'output/%03d/00_%d_reconA.png' % ( epoch, i))\n",
        "            save_image(reconstructionB, 'output/%03d/00_%d_reconB.png' % ( epoch, i))\n",
        "            save_image(mixed_image, 'output/%03d/00_%d_Mixed.png' % ( epoch, i))\n",
        "\n",
        "    lr_scheduler_G.step()\n",
        "    lr_scheduler_D.step()\n",
        "    print (\"e: %d, pre_loss: %.2f, D_real: %.2f, D_fake: %.2f\" % (epoch, preceptual_loss, loss_dis_real, loss_dis_fake))\n",
        "    "
      ]
    },
    {
      "cell_type": "markdown",
      "metadata": {
        "id": "BW4yYXlL1MD7"
      },
      "source": [
        "# Reconstructed Image view"
      ]
    },
    {
      "cell_type": "code",
      "execution_count": null,
      "metadata": {
        "id": "tmefIdvM1MD8"
      },
      "outputs": [],
      "source": [
        "def show_img(source, target, source_label, target_label):\n",
        "    num_row = 4\n",
        "    num_col = 5\n",
        "    num = 10\n",
        "    images = source[:num]\n",
        "    labels = source_label[:num]\n",
        "\n",
        "    fig, axes = plt.subplots(num_row, num_col, figsize=(1.5*num_col,2*num_row))\n",
        "    for i in range(num):\n",
        "        ax = axes[i//num_col, i%num_col]\n",
        "        image =  images[i].transpose(0,2).transpose(0,1)\n",
        "\n",
        "        ax.imshow(image)\n",
        "        ax.set_title('Label: {}'.format(labels[i]))\n",
        "\n",
        "\n",
        "    images = target[:num]\n",
        "    labels = target_label[:num]\n",
        "    for i in range(10,20):\n",
        "        ax = axes[i//num_col, i%num_col]\n",
        "        image = images[i - 10].transpose(0,2).transpose(0,1)\n",
        "        \n",
        "        ax.imshow(image)\n",
        "        ax.set_title('Label: {}'.format(labels[i - 10]))\n",
        "    plt.tight_layout()\n",
        "    plt.show()"
      ]
    },
    {
      "cell_type": "code",
      "execution_count": null,
      "metadata": {
        "id": "qpelpZEb1MD8"
      },
      "outputs": [],
      "source": [
        "def generate_image(source, target, preceptual, cuda):\n",
        "    data_target_iter = iter(target)\n",
        "    \n",
        "    source_reconstrueted = []\n",
        "    source_label_lst = []\n",
        "    target_reconstructed = []\n",
        "    target_label_lst = []\n",
        "    mixed_image_lst = []\n",
        "    for batch_idx, (source_inputs, source_label) in enumerate(source):\n",
        "        target_inputs, target_label = data_target_iter.next()\n",
        "\n",
        "        if cuda: \n",
        "            source_inputs, target_inputs = source_inputs.cuda(), target_inputs.cuda()\n",
        "\n",
        "        # preceptual\n",
        "        mixed_image, reconstruct_source, reconstruct_target = preceptual(source_inputs, target_inputs)\n",
        "\n",
        "        source_reconstrueted.extend(reconstruct_source.data.cpu().detach())\n",
        "        source_label_lst.extend(source_label.cpu().detach().numpy())\n",
        "        target_reconstructed.extend(reconstruct_target.data.cpu().detach())\n",
        "        target_label_lst.extend(target_label.cpu().detach().numpy())\n",
        "\n",
        "        mixed_image_lst.extend(mixed_image.data.cpu().detach())\n",
        "\n",
        "    return source_reconstrueted, target_reconstructed, source_label_lst, target_label_lst, mixed_image_lst\n",
        "    "
      ]
    },
    {
      "cell_type": "code",
      "execution_count": null,
      "metadata": {
        "id": "mu1XBCAJ1MD9"
      },
      "outputs": [],
      "source": [
        "'''source_reconstrueted, target_reconstructed, source_label, target_label, mixed = generate_image(source = loader_source, \n",
        "    target = loader_target, \n",
        "    preceptual = perceptual, \n",
        "    cuda = True)'''"
      ]
    },
    {
      "cell_type": "code",
      "execution_count": null,
      "metadata": {
        "id": "pfVp4uVY1MD9"
      },
      "outputs": [],
      "source": [
        "\n",
        "show_img(source_reconstrueted, target_reconstructed, source_label, target_label)"
      ]
    },
    {
      "cell_type": "code",
      "execution_count": null,
      "metadata": {
        "id": "V5COO6Rq1MD9"
      },
      "outputs": [],
      "source": [
        "num_row = 2\n",
        "num_col = 5\n",
        "num = 10\n",
        "images = mixed[:num]\n",
        "\n",
        "fig, axes = plt.subplots(num_row, num_col, figsize=(1.5*num_col,2*num_row))\n",
        "for i in range(num):\n",
        "    ax = axes[i//num_col, i%num_col]\n",
        "        \n",
        "    image =  images[i].transpose(0,2).transpose(0,1)\n",
        "\n",
        "    ax.imshow(image)"
      ]
    },
    {
      "cell_type": "markdown",
      "metadata": {
        "id": "RDs0kVIe1MD-"
      },
      "source": [
        "## Training method"
      ]
    },
    {
      "cell_type": "code",
      "execution_count": null,
      "metadata": {
        "id": "uOBzcqM-1MD-"
      },
      "outputs": [],
      "source": [
        "'''def train(source, target, epoch, cuda = True):\n",
        "     data_target_iter = iter(target)\n",
        "     total = 0\n",
        "     s_loss = 100000\n",
        "     t_s_loss = 100000\n",
        "     t_t_loss = 100000\n",
        "     loss_min = 100000\n",
        "\n",
        "     image_ss = []\n",
        "     image_ts = []\n",
        "     image_s = []\n",
        "     image_t = []\n",
        "\n",
        "     pre_source = None\n",
        "     pre_target = None\n",
        "\n",
        "     for batch_idx, (source_inputs, _) in enumerate(source):\n",
        "          batch_size = source_inputs.size(0)\n",
        "          total += batch_size\n",
        "          optimizer_gen.zero_grad()\n",
        "\n",
        "          target_inputs, _ = data_target_iter.next()\n",
        "\n",
        "          if (pre_source == None and pre_target == None):\n",
        "               pre_source = source_inputs\n",
        "               pre_target = target_inputs\n",
        "\n",
        "          source_inputs, target_inputs = Variable(source_inputs), Variable(target_inputs)\n",
        "          \n",
        "          if (cuda):\n",
        "               source_inputs, target_inputs = source_inputs.cuda(), target_inputs.cuda()\n",
        "               pre_source, pre_target = pre_source.cuda(), pre_target.cuda()\n",
        "\n",
        "          reconstruct_source, reconstruct_target = generator(source_inputs, target_inputs)\n",
        "\n",
        "          if(reconstruct_source.size()[0] != pre_target.size()[0]):\n",
        "               break\n",
        "\n",
        "          loss_construct_ss = criterion_construct(reconstruct_source, source_inputs)\n",
        "          loss_construct_st = criterion_construct(reconstruct_source, pre_target)\n",
        "          loss_construct_ts = criterion_construct(reconstruct_target, pre_source)\n",
        "          loss_construct_tt = criterion_construct(reconstruct_target, target_inputs)\n",
        "\n",
        "\n",
        "          total_loss = loss_construct_ss + loss_construct_st + loss_construct_ts + loss_construct_tt\n",
        "          total_loss.backward()\n",
        "          optimizer_gen.step()\n",
        "          \n",
        "          pre_source = reconstruct_source.detach()\n",
        "          pre_target = reconstruct_target.detach()\n",
        "\n",
        "          \n",
        "\n",
        "          if (total_loss < loss_min):\n",
        "               loss_min = total_loss\n",
        "\n",
        "               image_ss = reconstruct_source.data.cpu().detach().numpy()\n",
        "               image_ts = reconstruct_target.data.cpu().detach().numpy()\n",
        "               image_t = target_inputs.data.cpu().detach().numpy()\n",
        "               image_s = source_inputs.data.cpu().detach().numpy()\n",
        "\n",
        "\n",
        "\n",
        "     return loss_min, image_ss, image_ts, image_t, image_s\n",
        "'''"
      ]
    },
    {
      "cell_type": "code",
      "execution_count": null,
      "metadata": {
        "id": "Q5Sq5gVU1MD_"
      },
      "outputs": [],
      "source": [
        "'''for i in range(201):\n",
        "    err, image_ss, image_ts, image_t, image_s = train(loader_source, loader_target, i)\n",
        "    print(\"epoch: %d, error: %f\" % (i, err))\n",
        "    index = 0\n",
        "\n",
        "    if(i % 10 == 0):\n",
        "        fig, axs = plt.subplots(nrows=2, ncols = 2, figsize=(3, 5))\n",
        "        img = image_s[index].reshape(28,28,3)\n",
        "        img = (img + 1) * 0.5\n",
        "\n",
        "        img2 = image_t[index].reshape(28,28,3)\n",
        "        img2 = (img2 + 1) * 0.5\n",
        "\n",
        "        img3 = image_ss[index].reshape(28,28,3)\n",
        "        img3 = (img3 + 1) * 0.5\n",
        "\n",
        "        img4 = image_ts[index].reshape(28,28,3)\n",
        "        img4 = (img4 + 1) * 0.5\n",
        "\n",
        "        axs[0, 0].imshow(img)\n",
        "        axs[0 ,1].imshow(img2)\n",
        "        axs[1 ,0].imshow(img3)\n",
        "        axs[1 ,1].imshow(img4)\n",
        "\n",
        "        fig.savefig('./reconstruct/%d_img.png' % i)'''\n",
        "\n"
      ]
    }
  ],
  "metadata": {
    "accelerator": "GPU",
    "colab": {
      "name": "my_model.ipynb",
      "provenance": []
    },
    "interpreter": {
      "hash": "f4e5af365abde9565455761093e8e9bc7189c8b509b33061fd0f90eaa1b4d4cb"
    },
    "kernelspec": {
      "display_name": "Python 3.8.12 ('ml')",
      "language": "python",
      "name": "python3"
    },
    "language_info": {
      "codemirror_mode": {
        "name": "ipython",
        "version": 3
      },
      "file_extension": ".py",
      "mimetype": "text/x-python",
      "name": "python",
      "nbconvert_exporter": "python",
      "pygments_lexer": "ipython3",
      "version": "3.8.12"
    },
    "orig_nbformat": 4
  },
  "nbformat": 4,
  "nbformat_minor": 0
}
